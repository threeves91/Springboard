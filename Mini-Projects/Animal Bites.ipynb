{
 "cells": [
  {
   "cell_type": "markdown",
   "id": "second-obligation",
   "metadata": {},
   "source": [
    "# Animal Bites\n",
    "### This dataset includes information on over 9,000 animal bites which occurred near Louisville, Kentucky from 1985 to 2017 and includes information on whether the animal was quarantined after the bite occurred and whether that animal was rabid."
   ]
  },
  {
   "cell_type": "code",
   "execution_count": 1,
   "id": "answering-williams",
   "metadata": {},
   "outputs": [],
   "source": [
    "import pandas as pd \n",
    "import numpy as np \n",
    "import seaborn as sns\n",
    "import matplotlib.pyplot as plt \n"
   ]
  },
  {
   "cell_type": "code",
   "execution_count": 3,
   "id": "martial-indian",
   "metadata": {},
   "outputs": [
    {
     "data": {
      "text/html": [
       "<div>\n",
       "<style scoped>\n",
       "    .dataframe tbody tr th:only-of-type {\n",
       "        vertical-align: middle;\n",
       "    }\n",
       "\n",
       "    .dataframe tbody tr th {\n",
       "        vertical-align: top;\n",
       "    }\n",
       "\n",
       "    .dataframe thead th {\n",
       "        text-align: right;\n",
       "    }\n",
       "</style>\n",
       "<table border=\"1\" class=\"dataframe\">\n",
       "  <thead>\n",
       "    <tr style=\"text-align: right;\">\n",
       "      <th></th>\n",
       "      <th>bite_date</th>\n",
       "      <th>SpeciesIDDesc</th>\n",
       "      <th>BreedIDDesc</th>\n",
       "      <th>GenderIDDesc</th>\n",
       "      <th>color</th>\n",
       "      <th>vaccination_yrs</th>\n",
       "      <th>vaccination_date</th>\n",
       "      <th>victim_zip</th>\n",
       "      <th>AdvIssuedYNDesc</th>\n",
       "      <th>WhereBittenIDDesc</th>\n",
       "      <th>quarantine_date</th>\n",
       "      <th>DispositionIDDesc</th>\n",
       "      <th>head_sent_date</th>\n",
       "      <th>release_date</th>\n",
       "      <th>ResultsIDDesc</th>\n",
       "    </tr>\n",
       "  </thead>\n",
       "  <tbody>\n",
       "    <tr>\n",
       "      <th>0</th>\n",
       "      <td>1985-05-05 00:00:00</td>\n",
       "      <td>DOG</td>\n",
       "      <td>NaN</td>\n",
       "      <td>FEMALE</td>\n",
       "      <td>LIG. BROWN</td>\n",
       "      <td>1.0</td>\n",
       "      <td>1985-06-20 00:00:00</td>\n",
       "      <td>40229</td>\n",
       "      <td>NO</td>\n",
       "      <td>BODY</td>\n",
       "      <td>1985-05-05 00:00:00</td>\n",
       "      <td>UNKNOWN</td>\n",
       "      <td>NaN</td>\n",
       "      <td>NaN</td>\n",
       "      <td>UNKNOWN</td>\n",
       "    </tr>\n",
       "    <tr>\n",
       "      <th>1</th>\n",
       "      <td>1986-02-12 00:00:00</td>\n",
       "      <td>DOG</td>\n",
       "      <td>NaN</td>\n",
       "      <td>UNKNOWN</td>\n",
       "      <td>BRO &amp; BLA</td>\n",
       "      <td>NaN</td>\n",
       "      <td>NaN</td>\n",
       "      <td>40218</td>\n",
       "      <td>NO</td>\n",
       "      <td>BODY</td>\n",
       "      <td>1986-02-12 00:00:00</td>\n",
       "      <td>UNKNOWN</td>\n",
       "      <td>NaN</td>\n",
       "      <td>NaN</td>\n",
       "      <td>UNKNOWN</td>\n",
       "    </tr>\n",
       "    <tr>\n",
       "      <th>2</th>\n",
       "      <td>1987-05-07 00:00:00</td>\n",
       "      <td>DOG</td>\n",
       "      <td>NaN</td>\n",
       "      <td>UNKNOWN</td>\n",
       "      <td>NaN</td>\n",
       "      <td>NaN</td>\n",
       "      <td>NaN</td>\n",
       "      <td>40219</td>\n",
       "      <td>NO</td>\n",
       "      <td>BODY</td>\n",
       "      <td>1990-05-07 00:00:00</td>\n",
       "      <td>UNKNOWN</td>\n",
       "      <td>NaN</td>\n",
       "      <td>NaN</td>\n",
       "      <td>UNKNOWN</td>\n",
       "    </tr>\n",
       "    <tr>\n",
       "      <th>3</th>\n",
       "      <td>1988-10-02 00:00:00</td>\n",
       "      <td>DOG</td>\n",
       "      <td>NaN</td>\n",
       "      <td>MALE</td>\n",
       "      <td>BLA &amp; BRO</td>\n",
       "      <td>NaN</td>\n",
       "      <td>NaN</td>\n",
       "      <td>NaN</td>\n",
       "      <td>NO</td>\n",
       "      <td>BODY</td>\n",
       "      <td>1990-10-02 00:00:00</td>\n",
       "      <td>UNKNOWN</td>\n",
       "      <td>NaN</td>\n",
       "      <td>NaN</td>\n",
       "      <td>UNKNOWN</td>\n",
       "    </tr>\n",
       "    <tr>\n",
       "      <th>4</th>\n",
       "      <td>1989-08-29 00:00:00</td>\n",
       "      <td>DOG</td>\n",
       "      <td>NaN</td>\n",
       "      <td>FEMALE</td>\n",
       "      <td>BLK-WHT</td>\n",
       "      <td>NaN</td>\n",
       "      <td>NaN</td>\n",
       "      <td>NaN</td>\n",
       "      <td>NO</td>\n",
       "      <td>BODY</td>\n",
       "      <td>NaN</td>\n",
       "      <td>UNKNOWN</td>\n",
       "      <td>NaN</td>\n",
       "      <td>NaN</td>\n",
       "      <td>UNKNOWN</td>\n",
       "    </tr>\n",
       "  </tbody>\n",
       "</table>\n",
       "</div>"
      ],
      "text/plain": [
       "             bite_date SpeciesIDDesc BreedIDDesc GenderIDDesc       color  \\\n",
       "0  1985-05-05 00:00:00           DOG         NaN       FEMALE  LIG. BROWN   \n",
       "1  1986-02-12 00:00:00           DOG         NaN      UNKNOWN   BRO & BLA   \n",
       "2  1987-05-07 00:00:00           DOG         NaN      UNKNOWN         NaN   \n",
       "3  1988-10-02 00:00:00           DOG         NaN         MALE   BLA & BRO   \n",
       "4  1989-08-29 00:00:00           DOG         NaN       FEMALE     BLK-WHT   \n",
       "\n",
       "   vaccination_yrs     vaccination_date victim_zip AdvIssuedYNDesc  \\\n",
       "0              1.0  1985-06-20 00:00:00      40229              NO   \n",
       "1              NaN                  NaN      40218              NO   \n",
       "2              NaN                  NaN      40219              NO   \n",
       "3              NaN                  NaN        NaN              NO   \n",
       "4              NaN                  NaN        NaN              NO   \n",
       "\n",
       "  WhereBittenIDDesc      quarantine_date DispositionIDDesc head_sent_date  \\\n",
       "0              BODY  1985-05-05 00:00:00           UNKNOWN            NaN   \n",
       "1              BODY  1986-02-12 00:00:00           UNKNOWN            NaN   \n",
       "2              BODY  1990-05-07 00:00:00           UNKNOWN            NaN   \n",
       "3              BODY  1990-10-02 00:00:00           UNKNOWN            NaN   \n",
       "4              BODY                  NaN           UNKNOWN            NaN   \n",
       "\n",
       "  release_date ResultsIDDesc  \n",
       "0          NaN       UNKNOWN  \n",
       "1          NaN       UNKNOWN  \n",
       "2          NaN       UNKNOWN  \n",
       "3          NaN       UNKNOWN  \n",
       "4          NaN       UNKNOWN  "
      ]
     },
     "execution_count": 3,
     "metadata": {},
     "output_type": "execute_result"
    }
   ],
   "source": [
    "df=pd.read_csv('Health_AnimalBites.csv')\n",
    "df.head()"
   ]
  },
  {
   "cell_type": "markdown",
   "id": "opponent-logging",
   "metadata": {},
   "source": [
    "### Features of Animal Bite Data\n",
    "\n",
    "    bite_date: The date the bite occurred\n",
    "    SpeciesIDDesc: The species of animal that did the biting\n",
    "    BreedIDDesc: Breed (if known)\n",
    "    GenderIDDesc: Gender (of the animal)\n",
    "    color: color of the animal\n",
    "    vaccination_yrs: how many years had passed since the last vaccination\n",
    "    vaccination_date: the date of the last vaccination\n",
    "    victim_zip: the zipcode of the victim\n",
    "    AdvIssuedYNDesc: whether advice was issued\n",
    "    WhereBittenIDDesc: Where on the body the victim was bitten\n",
    "    quarantine_date: whether the animal was quarantined\n",
    "    DispositionIDDesc: whether the animal was released from quarantine\n",
    "    head_sent_date: the date the animal’s head was sent to the lab\n",
    "    release_date: the date the animal was released\n",
    "    ResultsIDDesc: results from lab tests (for rabies) \n"
   ]
  },
  {
   "cell_type": "code",
   "execution_count": 8,
   "id": "insured-dietary",
   "metadata": {},
   "outputs": [
    {
     "name": "stdout",
     "output_type": "stream",
     "text": [
      "<class 'pandas.core.frame.DataFrame'>\n",
      "RangeIndex: 9003 entries, 0 to 9002\n",
      "Data columns (total 15 columns):\n",
      " #   Column             Non-Null Count  Dtype  \n",
      "---  ------             --------------  -----  \n",
      " 0   bite_date          8686 non-null   object \n",
      " 1   SpeciesIDDesc      8885 non-null   object \n",
      " 2   BreedIDDesc        3759 non-null   object \n",
      " 3   GenderIDDesc       6477 non-null   object \n",
      " 4   color              6426 non-null   object \n",
      " 5   vaccination_yrs    3738 non-null   float64\n",
      " 6   vaccination_date   4115 non-null   object \n",
      " 7   victim_zip         7165 non-null   object \n",
      " 8   AdvIssuedYNDesc    2565 non-null   object \n",
      " 9   WhereBittenIDDesc  8387 non-null   object \n",
      " 10  quarantine_date    2020 non-null   object \n",
      " 11  DispositionIDDesc  1535 non-null   object \n",
      " 12  head_sent_date     395 non-null    object \n",
      " 13  release_date       1445 non-null   object \n",
      " 14  ResultsIDDesc      1543 non-null   object \n",
      "dtypes: float64(1), object(14)\n",
      "memory usage: 1.0+ MB\n"
     ]
    }
   ],
   "source": [
    "df.info()"
   ]
  },
  {
   "cell_type": "code",
   "execution_count": 7,
   "id": "double-prompt",
   "metadata": {},
   "outputs": [
    {
     "data": {
      "text/plain": [
       "bite_date             317\n",
       "SpeciesIDDesc         118\n",
       "BreedIDDesc          5244\n",
       "GenderIDDesc         2526\n",
       "color                2577\n",
       "vaccination_yrs      5265\n",
       "vaccination_date     4888\n",
       "victim_zip           1838\n",
       "AdvIssuedYNDesc      6438\n",
       "WhereBittenIDDesc     616\n",
       "quarantine_date      6983\n",
       "DispositionIDDesc    7468\n",
       "head_sent_date       8608\n",
       "release_date         7558\n",
       "ResultsIDDesc        7460\n",
       "dtype: int64"
      ]
     },
     "execution_count": 7,
     "metadata": {},
     "output_type": "execute_result"
    }
   ],
   "source": [
    "df.isnull().sum()"
   ]
  },
  {
   "cell_type": "markdown",
   "id": "running-sender",
   "metadata": {},
   "source": [
    "#### -It seems there is a lot of missing data in this dataframe, which will have to be dealt with before drawing valuable conclusions about his dataset. By just a cursory look at the data, I am sure dogs are the most often culprit of biting humans, but I would be interested to see if there is a strong probability of being bit by a dog with rabies compared to other species. This will be difficult to ascertain, as the vast majority of the data for lab results regarding rabies tests is NaN. First, let's look at the number of bites by species. "
   ]
  },
  {
   "cell_type": "code",
   "execution_count": 10,
   "id": "about-sierra",
   "metadata": {},
   "outputs": [
    {
     "name": "stdout",
     "output_type": "stream",
     "text": [
      "['DOG' 'CAT' 'BAT' 'RACCOON' 'OTHER' 'RABBIT' 'HORSE' 'SKUNK' 'FERRET']\n"
     ]
    }
   ],
   "source": [
    "species = df.SpeciesIDDesc\n",
    "species = species.dropna() \n",
    "speciesOfAnimal = species.unique()\n",
    "print(speciesOfAnimal)"
   ]
  },
  {
   "cell_type": "code",
   "execution_count": 42,
   "id": "voluntary-liberty",
   "metadata": {},
   "outputs": [
    {
     "name": "stdout",
     "output_type": "stream",
     "text": [
      "[7029, 1568, 237, 27, 11, 3, 5, 1, 4]\n"
     ]
    },
    {
     "data": {
      "image/png": "[encoded data removed]",
      "text/plain": [
       "<Figure size 1080x576 with 1 Axes>"
      ]
     },
     "metadata": {
      "needs_background": "light"
     },
     "output_type": "display_data"
    }
   ],
   "source": [
    "species_list = []\n",
    "for i in speciesOfAnimal: \n",
    "    species_list.append(len(species[species==i]))\n",
    "plt.figure(figsize=(15,8))\n",
    "ax = sns.barplot(x=speciesOfAnimal, y =species_list)\n",
    "plt.title('Number of Species Bite')\n",
    "plt.xticks(rotation=45)\n",
    "print(species_list)   "
   ]
  },
  {
   "cell_type": "markdown",
   "id": "equal-consumption",
   "metadata": {},
   "source": [
    "#### - Clearly, as expected, dogs were the majority perpitrator for this data set regarding number of bites. It would be interesting to see which breeds of dogs were most likely to bite. "
   ]
  },
  {
   "cell_type": "code",
   "execution_count": 40,
   "id": "engaging-morrison",
   "metadata": {},
   "outputs": [
    {
     "data": {
      "text/plain": [
       "Text(0.5, 1.0, 'Number of bites per Dog Breed')"
      ]
     },
     "execution_count": 40,
     "metadata": {},
     "output_type": "execute_result"
    },
    {
     "data": {
      "image/png": "[encoded data removed]",
      "text/plain": [
       "<Figure size 1080x576 with 1 Axes>"
      ]
     },
     "metadata": {
      "needs_background": "light"
     },
     "output_type": "display_data"
    }
   ],
   "source": [
    "breeds = df.BreedIDDesc.value_counts()\n",
    "plt.figure(figsize=(15,8))\n",
    "ax = sns.barplot(x=breeds[0:10].index,y=breeds[0:10])\n",
    "plt.xlabel('Breed')\n",
    "plt.xticks(rotation=45)\n",
    "plt.ylabel('Number of Bites')\n",
    "plt.title('Number of bites per Dog Breed')"
   ]
  },
  {
   "cell_type": "markdown",
   "id": "exempt-pipeline",
   "metadata": {},
   "source": [
    "#### - In Louisville, dogs categorized as Pit Bulls were a significant portion of the dogs biting humans from '85 - '17. While the dog bites themselves can be dangerous, the possibility of contracting rabies due as a result would be of primary concern to any physician treating the bite. Of these attacks, what is the probability that the dog is rabid. "
   ]
  },
  {
   "cell_type": "code",
   "execution_count": 58,
   "id": "legal-tournament",
   "metadata": {},
   "outputs": [
    {
     "data": {
      "image/png": "[encoded data removed]",
      "text/plain": [
       "<Figure size 432x288 with 1 Axes>"
      ]
     },
     "metadata": {},
     "output_type": "display_data"
    }
   ],
   "source": [
    "def prob_rabid(animal,df):\n",
    "    labels = ['POSITIVE', 'NEGATIVE']\n",
    "    colors = ['cyan', 'green']\n",
    "    p = df.loc[(df['SpeciesIDDesc']==animal)&(df['ResultsIDDesc']=='POSITIVE')]\n",
    "    n = df.loc[(df['SpeciesIDDesc'] == animal)&(df['ResultsIDDesc'] == 'NEGATIVE')]\n",
    "    sizes = [len(p), len(n)]\n",
    "    if len(p)==0:\n",
    "        labels = ['', 'NEGATIVE']\n",
    "    plt.pie(sizes,explode=[0.1,0],labels=labels,colors=colors,autopct ='%1.1f%%')\n",
    "    plt.axis('equal')\n",
    "    plt.title(animal + ' Rabid Probability')\n",
    "    plt.show()\n",
    "prob_rabid('DOG',df)"
   ]
  },
  {
   "cell_type": "markdown",
   "id": "indirect-remainder",
   "metadata": {},
   "source": [
    "### In Conclusion: If you live in Louisville, of the animals that you may come in contact with, you are most likely to be bitten by a dog. Of the dog breeds, you are most likely to be bitten by a Pitbull, German Shepherd or Golden Retriever. If you are bitten by a dog, there is a 1.7% cha"
   ]
  }
 ],
 "metadata": {
  "kernelspec": {
   "display_name": "Python 3",
   "language": "python",
   "name": "python3"
  },
  "language_info": {
   "codemirror_mode": {
    "name": "ipython",
    "version": 3
   },
   "file_extension": ".py",
   "mimetype": "text/x-python",
   "name": "python",
   "nbconvert_exporter": "python",
   "pygments_lexer": "ipython3",
   "version": "3.8.8"
  }
 },
 "nbformat": 4,
 "nbformat_minor": 5
}
