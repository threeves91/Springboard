{
 "cells": [
  {
   "cell_type": "markdown",
   "id": "ready-verse",
   "metadata": {},
   "source": [
    "# Modeling: Loan Application Approval\n",
    "### Comparison of Classification Algorithms Performance Metrics "
   ]
  },
  {
   "cell_type": "code",
   "execution_count": 15,
   "id": "ruled-supplier",
   "metadata": {},
   "outputs": [
    {
     "name": "stdout",
     "output_type": "stream",
     "text": [
      "Collecting package metadata (current_repodata.json): done\n",
      "Solving environment: done\n",
      "\n",
      "## Package Plan ##\n",
      "\n",
      "  environment location: /Users/Reeves1/opt/anaconda3\n",
      "\n",
      "  added / updated specs:\n",
      "    - imbalanced-learn\n",
      "\n",
      "\n",
      "The following packages will be downloaded:\n",
      "\n",
      "    package                    |            build\n",
      "    ---------------------------|-----------------\n",
      "    conda-4.10.1               |   py38h50d1736_0         3.1 MB  conda-forge\n",
      "    imbalanced-learn-0.8.0     |     pyhd8ed1ab_0         109 KB  conda-forge\n",
      "    ------------------------------------------------------------\n",
      "                                           Total:         3.2 MB\n",
      "\n",
      "The following NEW packages will be INSTALLED:\n",
      "\n",
      "  imbalanced-learn   conda-forge/noarch::imbalanced-learn-0.8.0-pyhd8ed1ab_0\n",
      "\n",
      "The following packages will be UPDATED:\n",
      "\n",
      "  conda                               4.10.0-py38h50d1736_1 --> 4.10.1-py38h50d1736_0\n",
      "\n",
      "\n",
      "\n",
      "Downloading and Extracting Packages\n",
      "conda-4.10.1         | 3.1 MB    | ##################################### | 100% \n",
      "imbalanced-learn-0.8 | 109 KB    | ##################################### | 100% \n",
      "Preparing transaction: done\n",
      "Verifying transaction: done\n",
      "Executing transaction: done\n",
      "\n",
      "Note: you may need to restart the kernel to use updated packages.\n"
     ]
    }
   ],
   "source": [
    "conda install -c conda-forge imbalanced-learn"
   ]
  },
  {
   "cell_type": "markdown",
   "id": "possible-indicator",
   "metadata": {},
   "source": [
    "#### In this notebook I will recreate my baseline model, utilizing a 70/30 train-test split, and attempt to boost the recall score of the minority class via oversampling and undersampling as a method of accounting for the imbalanced classes. I will also utilize a Random Forest, and Decision Tree algorithm to compare performance metrics for each on the training data once it has been oversampled and undersampled. "
   ]
  },
  {
   "cell_type": "code",
   "execution_count": 69,
   "id": "mediterranean-chest",
   "metadata": {},
   "outputs": [],
   "source": [
    "import pandas as pd \n",
    "import numpy as np \n",
    "import matplotlib.pyplot as plt\n",
    "from sklearn.model_selection import train_test_split\n",
    "from sklearn.linear_model import LogisticRegression\n",
    "from sklearn import metrics\n",
    "from sklearn.preprocessing import label_binarize\n",
    "from sklearn.metrics import accuracy_score\n",
    "from sklearn.metrics import classification_report"
   ]
  },
  {
   "cell_type": "code",
   "execution_count": 2,
   "id": "connected-advocacy",
   "metadata": {},
   "outputs": [],
   "source": [
    "df_clean = pd.read_csv('data/loan_data_clean.csv')"
   ]
  },
  {
   "cell_type": "code",
   "execution_count": 7,
   "id": "opening-democrat",
   "metadata": {},
   "outputs": [],
   "source": [
    "del df_clean['ApplicantIncome']\n",
    "del df_clean['Loan_ID']\n",
    "del df_clean['CoapplicantIncome']"
   ]
  },
  {
   "cell_type": "code",
   "execution_count": 9,
   "id": "finnish-panama",
   "metadata": {},
   "outputs": [],
   "source": [
    "dummy_df = df_clean[['Gender', 'Married', 'Dependents', 'Education', 'Self_Employed', 'LoanAmount', 'Loan_Amount_Term', 'Credit_History', 'Property_Area', 'HouseholdIncome']]"
   ]
  },
  {
   "cell_type": "code",
   "execution_count": 10,
   "id": "united-spanking",
   "metadata": {},
   "outputs": [],
   "source": [
    "X = pd.get_dummies(dummy_df)\n",
    "y = df_clean['Loan_Status'].values"
   ]
  },
  {
   "cell_type": "code",
   "execution_count": 11,
   "id": "detailed-gamma",
   "metadata": {},
   "outputs": [],
   "source": [
    "X_train, X_test, y_train, y_test = train_test_split(X, y, test_size=.3, random_state=1, stratify=y)"
   ]
  },
  {
   "cell_type": "code",
   "execution_count": 12,
   "id": "confident-belly",
   "metadata": {},
   "outputs": [],
   "source": [
    "#construct Logistic Regression model\n",
    "clf = LogisticRegression(max_iter=1000)\n",
    "#fit the model on the training data\n",
    "clf.fit(X_train, y_train)\n",
    "#introduce variable to be reused later \n",
    "y_predict_test = clf.predict(X_test)"
   ]
  },
  {
   "cell_type": "code",
   "execution_count": 13,
   "id": "oriental-europe",
   "metadata": {},
   "outputs": [
    {
     "name": "stdout",
     "output_type": "stream",
     "text": [
      "[Training Classification Report]\n",
      "              precision    recall  f1-score   support\n",
      "\n",
      "           N       0.88      0.43      0.58       134\n",
      "           Y       0.79      0.97      0.87       295\n",
      "\n",
      "    accuracy                           0.80       429\n",
      "   macro avg       0.83      0.70      0.73       429\n",
      "weighted avg       0.82      0.80      0.78       429\n",
      "\n",
      "[Test Classification Report]\n",
      "              precision    recall  f1-score   support\n",
      "\n",
      "           N       1.00      0.40      0.57        58\n",
      "           Y       0.78      1.00      0.88       127\n",
      "\n",
      "    accuracy                           0.81       185\n",
      "   macro avg       0.89      0.70      0.72       185\n",
      "weighted avg       0.85      0.81      0.78       185\n",
      "\n"
     ]
    }
   ],
   "source": [
    "y_predict_training = clf.predict(X_train)\n",
    "print(\"[Training Classification Report]\")\n",
    "print(classification_report(y_train, y_predict_training))\n",
    "\n",
    "print(\"[Test Classification Report]\")\n",
    "print(classification_report(y_test, y_predict_test))"
   ]
  },
  {
   "cell_type": "markdown",
   "id": "premier-wound",
   "metadata": {},
   "source": [
    "## Logistic Regression\n",
    "#### Oversampling the minority class will be the first step in attempting to improve the recall of the baseline model. "
   ]
  },
  {
   "cell_type": "code",
   "execution_count": 18,
   "id": "revised-booth",
   "metadata": {},
   "outputs": [],
   "source": [
    "from imblearn.over_sampling import RandomOverSampler\n",
    "ros = RandomOverSampler()\n",
    "X_resampled, y_resampled = ros.fit_resample(X_train, y_train)"
   ]
  },
  {
   "cell_type": "code",
   "execution_count": 26,
   "id": "cross-truth",
   "metadata": {},
   "outputs": [],
   "source": [
    "#construct Logistic Regression model\n",
    "clf = LogisticRegression(max_iter=1000)\n",
    "#fit the model on the training data\n",
    "clf.fit(X_resampled, y_resampled)\n",
    "#introduce variable to be reused later \n",
    "y_predict_test = clf.predict(X_test)"
   ]
  },
  {
   "cell_type": "code",
   "execution_count": 21,
   "id": "educated-lottery",
   "metadata": {},
   "outputs": [
    {
     "name": "stdout",
     "output_type": "stream",
     "text": [
      "[Training Classification Report]\n",
      "              precision    recall  f1-score   support\n",
      "\n",
      "           N       0.50      0.74      0.60       295\n",
      "           Y       0.51      0.27      0.35       295\n",
      "\n",
      "    accuracy                           0.50       590\n",
      "   macro avg       0.50      0.50      0.48       590\n",
      "weighted avg       0.50      0.50      0.48       590\n",
      "\n",
      "[Test Classification Report]\n",
      "              precision    recall  f1-score   support\n",
      "\n",
      "           N       0.27      0.55      0.36        58\n",
      "           Y       0.60      0.31      0.41       127\n",
      "\n",
      "    accuracy                           0.38       185\n",
      "   macro avg       0.43      0.43      0.38       185\n",
      "weighted avg       0.50      0.38      0.39       185\n",
      "\n"
     ]
    }
   ],
   "source": [
    "y_predict_training = clf.predict(X_resampled)\n",
    "print(\"[Training Classification Report]\")\n",
    "print(classification_report(y_resampled, y_predict_training))\n",
    "\n",
    "print(\"[Test Classification Report]\")\n",
    "print(classification_report(y_test, y_predict_test))"
   ]
  },
  {
   "cell_type": "markdown",
   "id": "clear-tampa",
   "metadata": {},
   "source": [
    "#### The performance metrics for the baseline model after being oversampled for the minority class performs better in the training Classification report for recall increasing from .43 to .74. We see an increase in recall in the Test set as well, however, in both models the Precision score of the Majority Class is significantly worse. I am curious to see how SMOTE affects the recall score of this model. "
   ]
  },
  {
   "cell_type": "code",
   "execution_count": 22,
   "id": "potential-iceland",
   "metadata": {},
   "outputs": [],
   "source": [
    "from imblearn.over_sampling import SMOTE"
   ]
  },
  {
   "cell_type": "code",
   "execution_count": 53,
   "id": "retained-trout",
   "metadata": {},
   "outputs": [
    {
     "name": "stdout",
     "output_type": "stream",
     "text": [
      "[Training Classification Report]\n",
      "              precision    recall  f1-score   support\n",
      "\n",
      "           N       0.85      0.73      0.78       295\n",
      "           Y       0.76      0.87      0.81       295\n",
      "\n",
      "    accuracy                           0.80       590\n",
      "   macro avg       0.81      0.80      0.80       590\n",
      "weighted avg       0.81      0.80      0.80       590\n",
      "\n",
      "[Test Classification Report]\n",
      "              precision    recall  f1-score   support\n",
      "\n",
      "           N       0.55      0.53      0.54        58\n",
      "           Y       0.79      0.80      0.80       127\n",
      "\n",
      "    accuracy                           0.72       185\n",
      "   macro avg       0.67      0.67      0.67       185\n",
      "weighted avg       0.72      0.72      0.72       185\n",
      "\n"
     ]
    }
   ],
   "source": [
    "X_resampled1, y_resampled1 = SMOTE().fit_resample(X_train, y_train)\n",
    "#construct Logistic Regression model\n",
    "clf = LogisticRegression(max_iter=1000)\n",
    "#fit the model on the training data\n",
    "clf.fit(X_resampled1, y_resampled1)\n",
    "#introduce variable to be reused later \n",
    "y_predict_test = clf.predict(X_test)\n",
    "y_predict_training = clf.predict(X_resampled1)\n",
    "print(\"[Training Classification Report]\")\n",
    "print(classification_report(y_resampled1, y_predict_training))\n",
    "\n",
    "print(\"[Test Classification Report]\")\n",
    "print(classification_report(y_test, y_predict_test))"
   ]
  },
  {
   "cell_type": "code",
   "execution_count": 60,
   "id": "indian-mercy",
   "metadata": {},
   "outputs": [
    {
     "ename": "SyntaxError",
     "evalue": "'return' outside function (<ipython-input-60-ad7c7221856c>, line 5)",
     "output_type": "error",
     "traceback": [
      "\u001b[0;36m  File \u001b[0;32m\"<ipython-input-60-ad7c7221856c>\"\u001b[0;36m, line \u001b[0;32m5\u001b[0m\n\u001b[0;31m    return 0\u001b[0m\n\u001b[0m    ^\u001b[0m\n\u001b[0;31mSyntaxError\u001b[0m\u001b[0;31m:\u001b[0m 'return' outside function\n"
     ]
    }
   ],
   "source": [
    "y_pred_proba = clf.predict_proba(X_test)[::,1]\n",
    "fpr, tpr, _ = metrics.roc_curve(y_test,  y_pred_proba)\n",
    "auc = metrics.roc_auc_score(y_test, y_pred_proba)\n",
    "plt.plot(fpr,tpr,label=\"data 1, auc=\"+str(auc))\n",
    "plt.legend(loc=4)\n",
    "plt.show()"
   ]
  },
  {
   "cell_type": "markdown",
   "id": "distant-smoke",
   "metadata": {},
   "source": [
    "#### SMOTE provided interesting results! The recall metric in the Training set was significantly higher than the baseline model and the Precision score did not suffer any decline remaining at .79. Precision score for the minority class and recall for the majority class were decreased by .07 and .06 respectively. Performance on the test set was significantly worse than the training set, with the recall for the minority class seeing no improvement. Undersampling will be the final method I attempt on this baseline model."
   ]
  },
  {
   "cell_type": "code",
   "execution_count": 24,
   "id": "noticed-placement",
   "metadata": {},
   "outputs": [],
   "source": [
    "from imblearn.under_sampling import RandomUnderSampler\n",
    "rus = RandomUnderSampler()\n",
    "X_resampled2, y_resampled2 = rus.fit_resample(X_train, y_train)"
   ]
  },
  {
   "cell_type": "code",
   "execution_count": 118,
   "id": "brief-qualification",
   "metadata": {},
   "outputs": [
    {
     "name": "stdout",
     "output_type": "stream",
     "text": [
      "[Training Classification Report]\n",
      "              precision    recall  f1-score   support\n",
      "\n",
      "           N       0.74      0.67      0.71       134\n",
      "           Y       0.70      0.77      0.73       134\n",
      "\n",
      "    accuracy                           0.72       268\n",
      "   macro avg       0.72      0.72      0.72       268\n",
      "weighted avg       0.72      0.72      0.72       268\n",
      "\n",
      "[Test Classification Report]\n",
      "              precision    recall  f1-score   support\n",
      "\n",
      "           N       0.49      0.60      0.54        58\n",
      "           Y       0.80      0.71      0.75       127\n",
      "\n",
      "    accuracy                           0.68       185\n",
      "   macro avg       0.64      0.66      0.64       185\n",
      "weighted avg       0.70      0.68      0.68       185\n",
      "\n"
     ]
    }
   ],
   "source": [
    "#construct Logistic Regression model\n",
    "clf = LogisticRegression(max_iter=1000)\n",
    "#fit the model on the training data\n",
    "clf.fit(X_resampled2, y_resampled2)\n",
    "#introduce variable to be reused later \n",
    "y_predict_test = clf.predict(X_test)\n",
    "y_predict_training = clf.predict(X_resampled2)\n",
    "print(\"[Training Classification Report]\")\n",
    "print(classification_report(y_resampled2, y_predict_training))\n",
    "LR_Report = classification_report(y_test, y_predict_test, output_dict=True)\n",
    "print(\"[Test Classification Report]\")\n",
    "print(classification_report(y_test, y_predict_test))"
   ]
  },
  {
   "cell_type": "code",
   "execution_count": 80,
   "id": "fatty-manor",
   "metadata": {},
   "outputs": [
    {
     "data": {
      "image/png": "[encoded data removed]",
      "text/plain": [
       "<Figure size 432x288 with 1 Axes>"
      ]
     },
     "metadata": {
      "needs_background": "light"
     },
     "output_type": "display_data"
    }
   ],
   "source": [
    "y_pred_proba = clf.predict_proba(X_test)[::,1]\n",
    "fpr, tpr, _ = metrics.roc_curve(y_test,  y_pred_proba, pos_label='Y')\n",
    "auc = metrics.roc_auc_score(y_test, y_pred_proba)\n",
    "plt.plot(fpr,tpr,label=\"data 1, auc=\"+str(auc))\n",
    "plt.legend(loc=4)\n",
    "plt.show()"
   ]
  },
  {
   "cell_type": "markdown",
   "id": "choice-marshall",
   "metadata": {},
   "source": [
    "#### Performance metrics for the minority class recall has seen the best improvement in the test set with an increase from .43 to .60, while simultaneously improving the precision of the majority class in the test set. There was a significant decrease in performance of the precision for the minority class in the test set that cannot be ignored, however. As we can see from the ROC/AUC metric, the model is decently performing, but far from optimized. At this point, I have achieved the goal of improving the recall score of the minority class by utilizing undersampling of the training set. Utilizing both oversampling and undersampling, as well as SMOTE on a Random Forest Algorithm will be my next step. "
   ]
  },
  {
   "cell_type": "markdown",
   "id": "about-alliance",
   "metadata": {},
   "source": [
    "## Random Forest \n",
    "\n",
    "#### ---Setting the number of trees to 10,000 as opposed to the default 100, may improve the performance of each Random Forest Model. "
   ]
  },
  {
   "cell_type": "code",
   "execution_count": 81,
   "id": "pediatric-cement",
   "metadata": {},
   "outputs": [
    {
     "name": "stdout",
     "output_type": "stream",
     "text": [
      "[Test Classification Report]\n",
      "              precision    recall  f1-score   support\n",
      "\n",
      "           N       0.68      0.55      0.61        58\n",
      "           Y       0.81      0.88      0.85       127\n",
      "\n",
      "    accuracy                           0.78       185\n",
      "   macro avg       0.75      0.72      0.73       185\n",
      "weighted avg       0.77      0.78      0.77       185\n",
      "\n"
     ]
    }
   ],
   "source": [
    "from sklearn.ensemble import RandomForestClassifier\n",
    "clf = RandomForestClassifier(n_estimators=10000)\n",
    "ros = RandomOverSampler()\n",
    "X_resampled3, y_resampled3 = ros.fit_resample(X_train, y_train)\n",
    "clf.fit(X_resampled3, y_resampled3)\n",
    "y_predict_test = clf.predict(X_test)\n",
    "y_predict_training = clf.predict(X_resampled3)\n",
    "\n",
    "print(\"[Test Classification Report]\")\n",
    "print(classification_report(y_test, y_predict_test))"
   ]
  },
  {
   "cell_type": "markdown",
   "id": "verbal-cache",
   "metadata": {},
   "source": [
    "#### The training set results were perfect across the board for the Random Forest model, with the test set being significantly better than the oversampling results on the baseline Log. Regression model. It will be interesting to see the effects of SMOTE on this model as well! "
   ]
  },
  {
   "cell_type": "code",
   "execution_count": 117,
   "id": "electoral-terrace",
   "metadata": {},
   "outputs": [
    {
     "name": "stdout",
     "output_type": "stream",
     "text": [
      "[Test Classification Report]\n",
      "              precision    recall  f1-score   support\n",
      "\n",
      "           N       0.70      0.52      0.59        58\n",
      "           Y       0.80      0.90      0.85       127\n",
      "\n",
      "    accuracy                           0.78       185\n",
      "   macro avg       0.75      0.71      0.72       185\n",
      "weighted avg       0.77      0.78      0.77       185\n",
      "\n"
     ]
    }
   ],
   "source": [
    "X_resampled4, y_resampled4 = SMOTE().fit_resample(X_train, y_train)\n",
    "#construct Logistic Regression model\n",
    "clf = RandomForestClassifier(n_estimators=10000)\n",
    "#fit the model on the training data\n",
    "clf.fit(X_resampled4, y_resampled4)\n",
    "#introduce variable to be reused later \n",
    "y_predict_test = clf.predict(X_test)\n",
    "y_predict_training = clf.predict(X_resampled4)\n",
    "RF_report = classification_report(y_test, y_predict_test, output_dict=True)\n",
    "print(\"[Test Classification Report]\")\n",
    "print(classification_report(y_test, y_predict_test))"
   ]
  },
  {
   "cell_type": "code",
   "execution_count": 86,
   "id": "serious-distance",
   "metadata": {},
   "outputs": [
    {
     "data": {
      "image/png": "[encoded data removed]",
      "text/plain": [
       "<Figure size 432x288 with 1 Axes>"
      ]
     },
     "metadata": {
      "needs_background": "light"
     },
     "output_type": "display_data"
    }
   ],
   "source": [
    "y_pred_proba = clf.predict_proba(X_test)[::,1]\n",
    "fpr, tpr, _ = metrics.roc_curve(y_test,  y_pred_proba, pos_label='Y')\n",
    "auc = metrics.roc_auc_score(y_test, y_pred_proba)\n",
    "plt.plot(fpr,tpr,label=\"data 1, auc=\"+str(auc))\n",
    "plt.legend(loc=4)\n",
    "plt.show()"
   ]
  },
  {
   "cell_type": "markdown",
   "id": "higher-teaching",
   "metadata": {},
   "source": [
    "#### Overall, this model performs marginally better on the test set than Random Oversampled model with the Precision scores of both classes increasing as well as the recall score of the Majority class. The recall for the minority class performed a little worse, by .02, in this model than the ROS. This AUC is a bit better at 75.9 compared to the Log. Reg. Undersampled Model, showing we are going in the right direction. "
   ]
  },
  {
   "cell_type": "code",
   "execution_count": 83,
   "id": "suitable-bundle",
   "metadata": {},
   "outputs": [
    {
     "name": "stdout",
     "output_type": "stream",
     "text": [
      "[Test Classification Report]\n",
      "              precision    recall  f1-score   support\n",
      "\n",
      "           N       0.51      0.59      0.54        58\n",
      "           Y       0.80      0.74      0.77       127\n",
      "\n",
      "    accuracy                           0.69       185\n",
      "   macro avg       0.65      0.66      0.66       185\n",
      "weighted avg       0.71      0.69      0.70       185\n",
      "\n"
     ]
    }
   ],
   "source": [
    "rus = RandomUnderSampler()\n",
    "X_resampled5, y_resampled5 = rus.fit_resample(X_train, y_train)\n",
    "#construct Logistic Regression model\n",
    "clf = RandomForestClassifier(n_estimators=10000)\n",
    "#fit the model on the training data\n",
    "clf.fit(X_resampled5, y_resampled5)\n",
    "#introduce variable to be reused later \n",
    "y_predict_test = clf.predict(X_test)\n",
    "y_predict_training = clf.predict(X_resampled5)\n",
    "\n",
    "print(\"[Test Classification Report]\")\n",
    "print(classification_report(y_test, y_predict_test))"
   ]
  },
  {
   "cell_type": "markdown",
   "id": "grand-maine",
   "metadata": {},
   "source": [
    "#### Comparing the recall and precision scores for the ROS, RUS, and SMOTE resampling for the Random Forest Model, I believe the best model would be the SMOTE resampled Random Forest. This model performs better than the baseline model as well! Looking at how another algorithm performs will be valuable as well. "
   ]
  },
  {
   "cell_type": "markdown",
   "id": "powerful-funeral",
   "metadata": {},
   "source": [
    "## Decision Tree"
   ]
  },
  {
   "cell_type": "code",
   "execution_count": 30,
   "id": "expressed-application",
   "metadata": {},
   "outputs": [],
   "source": [
    "from sklearn.tree import DecisionTreeClassifier"
   ]
  },
  {
   "cell_type": "code",
   "execution_count": 44,
   "id": "forty-developer",
   "metadata": {},
   "outputs": [
    {
     "name": "stdout",
     "output_type": "stream",
     "text": [
      "[Test Classification Report]\n",
      "              precision    recall  f1-score   support\n",
      "\n",
      "           N       0.58      0.52      0.55        58\n",
      "           Y       0.79      0.83      0.81       127\n",
      "\n",
      "    accuracy                           0.73       185\n",
      "   macro avg       0.68      0.67      0.68       185\n",
      "weighted avg       0.72      0.73      0.73       185\n",
      "\n"
     ]
    }
   ],
   "source": [
    "clf = DecisionTreeClassifier()\n",
    "ros = RandomOverSampler()\n",
    "X_resampled6, y_resampled6 = ros.fit_resample(X_train, y_train)\n",
    "clf.fit(X_resampled6, y_resampled6)\n",
    "y_predict_test = clf.predict(X_test)\n",
    "y_predict_training = clf.predict(X_resampled6)\n",
    "\n",
    "print(\"[Test Classification Report]\")\n",
    "print(classification_report(y_test, y_predict_test))"
   ]
  },
  {
   "cell_type": "markdown",
   "id": "balanced-directory",
   "metadata": {},
   "source": [
    "#### It appears as though the Decision Tree Classifier performance after ROS is closer to the results we saw from the Log. Reg. Model, that being it is not quite as good as the Random Forest Model. "
   ]
  },
  {
   "cell_type": "code",
   "execution_count": 45,
   "id": "normal-macro",
   "metadata": {},
   "outputs": [
    {
     "name": "stdout",
     "output_type": "stream",
     "text": [
      "[Test Classification Report]\n",
      "              precision    recall  f1-score   support\n",
      "\n",
      "           N       0.57      0.55      0.56        58\n",
      "           Y       0.80      0.81      0.80       127\n",
      "\n",
      "    accuracy                           0.73       185\n",
      "   macro avg       0.68      0.68      0.68       185\n",
      "weighted avg       0.73      0.73      0.73       185\n",
      "\n"
     ]
    }
   ],
   "source": [
    "X_resampled7, y_resampled7 = SMOTE().fit_resample(X_train, y_train)\n",
    "#construct Logistic Regression model\n",
    "clf = DecisionTreeClassifier()\n",
    "#fit the model on the training data\n",
    "clf.fit(X_resampled7, y_resampled7)\n",
    "#introduce variable to be reused later \n",
    "y_predict_test = clf.predict(X_test)\n",
    "y_predict_training = clf.predict(X_resampled7)\n",
    "\n",
    "print(\"[Test Classification Report]\")\n",
    "print(classification_report(y_test, y_predict_test))"
   ]
  },
  {
   "cell_type": "markdown",
   "id": "listed-station",
   "metadata": {},
   "source": [
    "#### We see a similar performance in this model with SMOTE resampling methods applied, marginally better than the baseline model, but not as good as the Random Forest Model. "
   ]
  },
  {
   "cell_type": "code",
   "execution_count": 46,
   "id": "impressed-clark",
   "metadata": {},
   "outputs": [
    {
     "name": "stdout",
     "output_type": "stream",
     "text": [
      "[Test Classification Report]\n",
      "              precision    recall  f1-score   support\n",
      "\n",
      "           N       0.39      0.52      0.45        58\n",
      "           Y       0.74      0.64      0.69       127\n",
      "\n",
      "    accuracy                           0.60       185\n",
      "   macro avg       0.57      0.58      0.57       185\n",
      "weighted avg       0.63      0.60      0.61       185\n",
      "\n"
     ]
    }
   ],
   "source": [
    "rus = RandomUnderSampler()\n",
    "X_resampled8, y_resampled8 = rus.fit_resample(X_train, y_train)\n",
    "#construct Logistic Regression model\n",
    "clf = DecisionTreeClassifier()\n",
    "#fit the model on the training data\n",
    "clf.fit(X_resampled8, y_resampled8)\n",
    "#introduce variable to be reused later \n",
    "y_predict_test = clf.predict(X_test)\n",
    "y_predict_training = clf.predict(X_resampled8)\n",
    "\n",
    "print(\"[Test Classification Report]\")\n",
    "print(classification_report(y_test, y_predict_test))"
   ]
  },
  {
   "cell_type": "markdown",
   "id": "grateful-hello",
   "metadata": {},
   "source": [
    "#### And with the RUS methods on the Decision Tree algorithm we see again that it is not nearly as effective as the Random Forest Model. "
   ]
  },
  {
   "cell_type": "markdown",
   "id": "fluid-government",
   "metadata": {},
   "source": [
    "#### While the models in general would need more optimization, overall the goal of improving the recall of the minority class has been best achieved by the Random Forest SMOTE model and the Log. Reg. Undersampled model. Ultimately, a clustering algorithm could be utilized to determine new information regarding some of the dependent variables and how they affect the target. For the purpose of this capstone, I am satisfied in how I have built these classification models and achieved some semblance of hyperparameter tuning to enhance the recall scores. "
   ]
  },
  {
   "cell_type": "code",
   "execution_count": 132,
   "id": "weird-mount",
   "metadata": {},
   "outputs": [
    {
     "data": {
      "text/html": [
       "<div>\n",
       "<style scoped>\n",
       "    .dataframe tbody tr th:only-of-type {\n",
       "        vertical-align: middle;\n",
       "    }\n",
       "\n",
       "    .dataframe tbody tr th {\n",
       "        vertical-align: top;\n",
       "    }\n",
       "\n",
       "    .dataframe thead th {\n",
       "        text-align: right;\n",
       "    }\n",
       "</style>\n",
       "<table border=\"1\" class=\"dataframe\">\n",
       "  <thead>\n",
       "    <tr style=\"text-align: right;\">\n",
       "      <th></th>\n",
       "      <th>RF_Precision</th>\n",
       "      <th>RF_Recall</th>\n",
       "      <th>RF_f1</th>\n",
       "      <th>RF_support</th>\n",
       "      <th>LR_Precision</th>\n",
       "      <th>LR_Recall</th>\n",
       "      <th>LR_f1</th>\n",
       "      <th>LR_support</th>\n",
       "    </tr>\n",
       "  </thead>\n",
       "  <tbody>\n",
       "    <tr>\n",
       "      <th>N</th>\n",
       "      <td>0.697674</td>\n",
       "      <td>0.517241</td>\n",
       "      <td>0.594059</td>\n",
       "      <td>58.000000</td>\n",
       "      <td>0.486111</td>\n",
       "      <td>0.603448</td>\n",
       "      <td>0.538462</td>\n",
       "      <td>58.000000</td>\n",
       "    </tr>\n",
       "    <tr>\n",
       "      <th>Y</th>\n",
       "      <td>0.802817</td>\n",
       "      <td>0.897638</td>\n",
       "      <td>0.847584</td>\n",
       "      <td>127.000000</td>\n",
       "      <td>0.796460</td>\n",
       "      <td>0.708661</td>\n",
       "      <td>0.750000</td>\n",
       "      <td>127.000000</td>\n",
       "    </tr>\n",
       "    <tr>\n",
       "      <th>accuracy</th>\n",
       "      <td>0.778378</td>\n",
       "      <td>0.778378</td>\n",
       "      <td>0.778378</td>\n",
       "      <td>0.778378</td>\n",
       "      <td>0.675676</td>\n",
       "      <td>0.675676</td>\n",
       "      <td>0.675676</td>\n",
       "      <td>0.675676</td>\n",
       "    </tr>\n",
       "    <tr>\n",
       "      <th>macro avg</th>\n",
       "      <td>0.750246</td>\n",
       "      <td>0.707440</td>\n",
       "      <td>0.720822</td>\n",
       "      <td>185.000000</td>\n",
       "      <td>0.641286</td>\n",
       "      <td>0.656055</td>\n",
       "      <td>0.644231</td>\n",
       "      <td>185.000000</td>\n",
       "    </tr>\n",
       "    <tr>\n",
       "      <th>weighted avg</th>\n",
       "      <td>0.769853</td>\n",
       "      <td>0.778378</td>\n",
       "      <td>0.768100</td>\n",
       "      <td>185.000000</td>\n",
       "      <td>0.699162</td>\n",
       "      <td>0.675676</td>\n",
       "      <td>0.683680</td>\n",
       "      <td>185.000000</td>\n",
       "    </tr>\n",
       "  </tbody>\n",
       "</table>\n",
       "</div>"
      ],
      "text/plain": [
       "              RF_Precision  RF_Recall     RF_f1  RF_support  LR_Precision  \\\n",
       "N                 0.697674   0.517241  0.594059   58.000000      0.486111   \n",
       "Y                 0.802817   0.897638  0.847584  127.000000      0.796460   \n",
       "accuracy          0.778378   0.778378  0.778378    0.778378      0.675676   \n",
       "macro avg         0.750246   0.707440  0.720822  185.000000      0.641286   \n",
       "weighted avg      0.769853   0.778378  0.768100  185.000000      0.699162   \n",
       "\n",
       "              LR_Recall     LR_f1  LR_support  \n",
       "N              0.603448  0.538462   58.000000  \n",
       "Y              0.708661  0.750000  127.000000  \n",
       "accuracy       0.675676  0.675676    0.675676  \n",
       "macro avg      0.656055  0.644231  185.000000  \n",
       "weighted avg   0.675676  0.683680  185.000000  "
      ]
     },
     "execution_count": 132,
     "metadata": {},
     "output_type": "execute_result"
    }
   ],
   "source": [
    "RF_df = pd.DataFrame(RF_report)\n",
    "LR_df = pd.DataFrame(LR_Report)\n",
    "reports_df = [RF_df, LR_df]\n",
    "df = pd.concat(reports_df).transpose()\n",
    "df.columns = ['RF_Precision', 'RF_Recall', 'RF_f1', 'RF_support', 'LR_Precision', 'LR_Recall', 'LR_f1', 'LR_support']\n",
    "df"
   ]
  },
  {
   "cell_type": "markdown",
   "id": "comparative-johns",
   "metadata": {},
   "source": [
    "#### As we can see in the table above, the RF model performs better in every metric except the minority class Recall. The decreased performance of that metric, combined with the increased precision of the same minority class compared to the minority class of the LR model justifies using the RF model instead of the LR model. "
   ]
  },
  {
   "cell_type": "code",
   "execution_count": null,
   "id": "assumed-remedy",
   "metadata": {},
   "outputs": [],
   "source": []
  }
 ],
 "metadata": {
  "kernelspec": {
   "display_name": "Python 3",
   "language": "python",
   "name": "python3"
  },
  "language_info": {
   "codemirror_mode": {
    "name": "ipython",
    "version": 3
   },
   "file_extension": ".py",
   "mimetype": "text/x-python",
   "name": "python",
   "nbconvert_exporter": "python",
   "pygments_lexer": "ipython3",
   "version": "3.8.8"
  }
 },
 "nbformat": 4,
 "nbformat_minor": 5
}
