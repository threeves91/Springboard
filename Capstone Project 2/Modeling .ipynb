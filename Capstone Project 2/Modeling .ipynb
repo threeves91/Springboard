{
 "cells": [
  {
   "cell_type": "markdown",
   "id": "correct-apache",
   "metadata": {},
   "source": [
    "# Modeling: Loan Application Approval\n",
    "### Comparison of Classification Algorithms Performance Metrics "
   ]
  },
  {
   "cell_type": "code",
   "execution_count": 15,
   "id": "married-elizabeth",
   "metadata": {},
   "outputs": [
    {
     "name": "stdout",
     "output_type": "stream",
     "text": [
      "Collecting package metadata (current_repodata.json): done\n",
      "Solving environment: done\n",
      "\n",
      "## Package Plan ##\n",
      "\n",
      "  environment location: /Users/Reeves1/opt/anaconda3\n",
      "\n",
      "  added / updated specs:\n",
      "    - imbalanced-learn\n",
      "\n",
      "\n",
      "The following packages will be downloaded:\n",
      "\n",
      "    package                    |            build\n",
      "    ---------------------------|-----------------\n",
      "    conda-4.10.1               |   py38h50d1736_0         3.1 MB  conda-forge\n",
      "    imbalanced-learn-0.8.0     |     pyhd8ed1ab_0         109 KB  conda-forge\n",
      "    ------------------------------------------------------------\n",
      "                                           Total:         3.2 MB\n",
      "\n",
      "The following NEW packages will be INSTALLED:\n",
      "\n",
      "  imbalanced-learn   conda-forge/noarch::imbalanced-learn-0.8.0-pyhd8ed1ab_0\n",
      "\n",
      "The following packages will be UPDATED:\n",
      "\n",
      "  conda                               4.10.0-py38h50d1736_1 --> 4.10.1-py38h50d1736_0\n",
      "\n",
      "\n",
      "\n",
      "Downloading and Extracting Packages\n",
      "conda-4.10.1         | 3.1 MB    | ##################################### | 100% \n",
      "imbalanced-learn-0.8 | 109 KB    | ##################################### | 100% \n",
      "Preparing transaction: done\n",
      "Verifying transaction: done\n",
      "Executing transaction: done\n",
      "\n",
      "Note: you may need to restart the kernel to use updated packages.\n"
     ]
    }
   ],
   "source": [
    "conda install -c conda-forge imbalanced-learn"
   ]
  },
  {
   "cell_type": "markdown",
   "id": "controlling-grade",
   "metadata": {},
   "source": [
    "#### In this notebook I will recreate my baseline model, utilizing a 70/30 train-test split, and attempt to boost the recall score of the minority class via oversampling and undersampling as a method of accounting for the imbalanced classes. I will also utilize a Random Forest, and Decision Tree algorithm to compare performance metrics for each on the training data once it has been oversampled and undersampled. "
   ]
  },
  {
   "cell_type": "code",
   "execution_count": 69,
   "id": "lucky-hamburg",
   "metadata": {},
   "outputs": [],
   "source": [
    "import pandas as pd \n",
    "import numpy as np \n",
    "import matplotlib.pyplot as plt\n",
    "from sklearn.model_selection import train_test_split\n",
    "from sklearn.linear_model import LogisticRegression\n",
    "from sklearn import metrics\n",
    "from sklearn.preprocessing import label_binarize\n",
    "from sklearn.metrics import accuracy_score\n",
    "from sklearn.metrics import classification_report"
   ]
  },
  {
   "cell_type": "code",
   "execution_count": 2,
   "id": "colored-order",
   "metadata": {},
   "outputs": [],
   "source": [
    "df_clean = pd.read_csv('data/loan_data_clean.csv')"
   ]
  },
  {
   "cell_type": "code",
   "execution_count": 7,
   "id": "likely-islam",
   "metadata": {},
   "outputs": [],
   "source": [
    "del df_clean['ApplicantIncome']\n",
    "del df_clean['Loan_ID']\n",
    "del df_clean['CoapplicantIncome']"
   ]
  },
  {
   "cell_type": "code",
   "execution_count": 9,
   "id": "arranged-royalty",
   "metadata": {},
   "outputs": [],
   "source": [
    "dummy_df = df_clean[['Gender', 'Married', 'Dependents', 'Education', 'Self_Employed', 'LoanAmount', 'Loan_Amount_Term', 'Credit_History', 'Property_Area', 'HouseholdIncome']]"
   ]
  },
  {
   "cell_type": "code",
   "execution_count": 10,
   "id": "prepared-bachelor",
   "metadata": {},
   "outputs": [],
   "source": [
    "X = pd.get_dummies(dummy_df)\n",
    "y = df_clean['Loan_Status'].values"
   ]
  },
  {
   "cell_type": "code",
   "execution_count": 11,
   "id": "functional-reset",
   "metadata": {},
   "outputs": [],
   "source": [
    "X_train, X_test, y_train, y_test = train_test_split(X, y, test_size=.3, random_state=1, stratify=y)"
   ]
  },
  {
   "cell_type": "code",
   "execution_count": 12,
   "id": "middle-retirement",
   "metadata": {},
   "outputs": [],
   "source": [
    "#construct Logistic Regression model\n",
    "clf = LogisticRegression(max_iter=1000)\n",
    "#fit the model on the training data\n",
    "clf.fit(X_train, y_train)\n",
    "#introduce variable to be reused later \n",
    "y_predict_test = clf.predict(X_test)"
   ]
  },
  {
   "cell_type": "code",
   "execution_count": 13,
   "id": "framed-bottom",
   "metadata": {},
   "outputs": [
    {
     "name": "stdout",
     "output_type": "stream",
     "text": [
      "[Training Classification Report]\n",
      "              precision    recall  f1-score   support\n",
      "\n",
      "           N       0.88      0.43      0.58       134\n",
      "           Y       0.79      0.97      0.87       295\n",
      "\n",
      "    accuracy                           0.80       429\n",
      "   macro avg       0.83      0.70      0.73       429\n",
      "weighted avg       0.82      0.80      0.78       429\n",
      "\n",
      "[Test Classification Report]\n",
      "              precision    recall  f1-score   support\n",
      "\n",
      "           N       1.00      0.40      0.57        58\n",
      "           Y       0.78      1.00      0.88       127\n",
      "\n",
      "    accuracy                           0.81       185\n",
      "   macro avg       0.89      0.70      0.72       185\n",
      "weighted avg       0.85      0.81      0.78       185\n",
      "\n"
     ]
    }
   ],
   "source": [
    "y_predict_training = clf.predict(X_train)\n",
    "print(\"[Training Classification Report]\")\n",
    "print(classification_report(y_train, y_predict_training))\n",
    "\n",
    "print(\"[Test Classification Report]\")\n",
    "print(classification_report(y_test, y_predict_test))"
   ]
  },
  {
   "cell_type": "markdown",
   "id": "varied-cornell",
   "metadata": {},
   "source": [
    "## Logistic Regression\n",
    "#### Oversampling the minority class will be the first step in attempting to improve the recall of the baseline model. "
   ]
  },
  {
   "cell_type": "code",
   "execution_count": 18,
   "id": "persistent-breeding",
   "metadata": {},
   "outputs": [],
   "source": [
    "from imblearn.over_sampling import RandomOverSampler\n",
    "ros = RandomOverSampler()\n",
    "X_resampled, y_resampled = ros.fit_resample(X_train, y_train)"
   ]
  },
  {
   "cell_type": "code",
   "execution_count": 26,
   "id": "adjacent-tackle",
   "metadata": {},
   "outputs": [],
   "source": [
    "#construct Logistic Regression model\n",
    "clf = LogisticRegression(max_iter=1000)\n",
    "#fit the model on the training data\n",
    "clf.fit(X_resampled, y_resampled)\n",
    "#introduce variable to be reused later \n",
    "y_predict_test = clf.predict(X_test)"
   ]
  },
  {
   "cell_type": "code",
   "execution_count": 21,
   "id": "amber-dialogue",
   "metadata": {},
   "outputs": [
    {
     "name": "stdout",
     "output_type": "stream",
     "text": [
      "[Training Classification Report]\n",
      "              precision    recall  f1-score   support\n",
      "\n",
      "           N       0.50      0.74      0.60       295\n",
      "           Y       0.51      0.27      0.35       295\n",
      "\n",
      "    accuracy                           0.50       590\n",
      "   macro avg       0.50      0.50      0.48       590\n",
      "weighted avg       0.50      0.50      0.48       590\n",
      "\n",
      "[Test Classification Report]\n",
      "              precision    recall  f1-score   support\n",
      "\n",
      "           N       0.27      0.55      0.36        58\n",
      "           Y       0.60      0.31      0.41       127\n",
      "\n",
      "    accuracy                           0.38       185\n",
      "   macro avg       0.43      0.43      0.38       185\n",
      "weighted avg       0.50      0.38      0.39       185\n",
      "\n"
     ]
    }
   ],
   "source": [
    "y_predict_training = clf.predict(X_resampled)\n",
    "print(\"[Training Classification Report]\")\n",
    "print(classification_report(y_resampled, y_predict_training))\n",
    "\n",
    "print(\"[Test Classification Report]\")\n",
    "print(classification_report(y_test, y_predict_test))"
   ]
  },
  {
   "cell_type": "markdown",
   "id": "differential-enemy",
   "metadata": {},
   "source": [
    "#### The performance metrics for the baseline model after being oversampled for the minority class performs better in the training Classification report for recall increasing from .43 to .74. We see an increase in recall in the Test set as well, however, in both models the Precision score of the Majority Class is significantly worse. I am curious to see how SMOTE affects the recall score of this model. "
   ]
  },
  {
   "cell_type": "code",
   "execution_count": 22,
   "id": "elect-termination",
   "metadata": {},
   "outputs": [],
   "source": [
    "from imblearn.over_sampling import SMOTE"
   ]
  },
  {
   "cell_type": "code",
   "execution_count": 53,
   "id": "north-rating",
   "metadata": {},
   "outputs": [
    {
     "name": "stdout",
     "output_type": "stream",
     "text": [
      "[Training Classification Report]\n",
      "              precision    recall  f1-score   support\n",
      "\n",
      "           N       0.85      0.73      0.78       295\n",
      "           Y       0.76      0.87      0.81       295\n",
      "\n",
      "    accuracy                           0.80       590\n",
      "   macro avg       0.81      0.80      0.80       590\n",
      "weighted avg       0.81      0.80      0.80       590\n",
      "\n",
      "[Test Classification Report]\n",
      "              precision    recall  f1-score   support\n",
      "\n",
      "           N       0.55      0.53      0.54        58\n",
      "           Y       0.79      0.80      0.80       127\n",
      "\n",
      "    accuracy                           0.72       185\n",
      "   macro avg       0.67      0.67      0.67       185\n",
      "weighted avg       0.72      0.72      0.72       185\n",
      "\n"
     ]
    }
   ],
   "source": [
    "X_resampled1, y_resampled1 = SMOTE().fit_resample(X_train, y_train)\n",
    "#construct Logistic Regression model\n",
    "clf = LogisticRegression(max_iter=1000)\n",
    "#fit the model on the training data\n",
    "clf.fit(X_resampled1, y_resampled1)\n",
    "#introduce variable to be reused later \n",
    "y_predict_test = clf.predict(X_test)\n",
    "y_predict_training = clf.predict(X_resampled1)\n",
    "print(\"[Training Classification Report]\")\n",
    "print(classification_report(y_resampled1, y_predict_training))\n",
    "\n",
    "print(\"[Test Classification Report]\")\n",
    "print(classification_report(y_test, y_predict_test))"
   ]
  },
  {
   "cell_type": "code",
   "execution_count": 60,
   "id": "indoor-speed",
   "metadata": {},
   "outputs": [
    {
     "ename": "SyntaxError",
     "evalue": "'return' outside function (<ipython-input-60-ad7c7221856c>, line 5)",
     "output_type": "error",
     "traceback": [
      "\u001b[0;36m  File \u001b[0;32m\"<ipython-input-60-ad7c7221856c>\"\u001b[0;36m, line \u001b[0;32m5\u001b[0m\n\u001b[0;31m    return 0\u001b[0m\n\u001b[0m    ^\u001b[0m\n\u001b[0;31mSyntaxError\u001b[0m\u001b[0;31m:\u001b[0m 'return' outside function\n"
     ]
    }
   ],
   "source": [
    "y_pred_proba = clf.predict_proba(X_test)[::,1]\n",
    "fpr, tpr, _ = metrics.roc_curve(y_test,  y_pred_proba)\n",
    "auc = metrics.roc_auc_score(y_test, y_pred_proba)\n",
    "plt.plot(fpr,tpr,label=\"data 1, auc=\"+str(auc))\n",
    "plt.legend(loc=4)\n",
    "plt.show()"
   ]
  },
  {
   "cell_type": "markdown",
   "id": "smaller-armor",
   "metadata": {},
   "source": [
    "#### SMOTE provided interesting results! The recall metric in the Training set was significantly higher than the baseline model and the Precision score did not suffer any decline remaining at .79. Precision score for the minority class and recall for the majority class were decreased by .07 and .06 respectively. Performance on the test set was significantly worse than the training set, with the recall for the minority class seeing no improvement. Undersampling will be the final method I attempt on this baseline model."
   ]
  },
  {
   "cell_type": "code",
   "execution_count": 24,
   "id": "sensitive-convenience",
   "metadata": {},
   "outputs": [],
   "source": [
    "from imblearn.under_sampling import RandomUnderSampler\n",
    "rus = RandomUnderSampler()\n",
    "X_resampled2, y_resampled2 = rus.fit_resample(X_train, y_train)"
   ]
  },
  {
   "cell_type": "code",
   "execution_count": 72,
   "id": "original-threshold",
   "metadata": {},
   "outputs": [
    {
     "name": "stdout",
     "output_type": "stream",
     "text": [
      "[Training Classification Report]\n",
      "              precision    recall  f1-score   support\n",
      "\n",
      "           N       0.74      0.67      0.71       134\n",
      "           Y       0.70      0.77      0.73       134\n",
      "\n",
      "    accuracy                           0.72       268\n",
      "   macro avg       0.72      0.72      0.72       268\n",
      "weighted avg       0.72      0.72      0.72       268\n",
      "\n",
      "[Test Classification Report]\n",
      "              precision    recall  f1-score   support\n",
      "\n",
      "           N       0.49      0.60      0.54        58\n",
      "           Y       0.80      0.71      0.75       127\n",
      "\n",
      "    accuracy                           0.68       185\n",
      "   macro avg       0.64      0.66      0.64       185\n",
      "weighted avg       0.70      0.68      0.68       185\n",
      "\n"
     ]
    }
   ],
   "source": [
    "#construct Logistic Regression model\n",
    "clf = LogisticRegression(max_iter=1000)\n",
    "#fit the model on the training data\n",
    "clf.fit(X_resampled2, y_resampled2)\n",
    "#introduce variable to be reused later \n",
    "y_predict_test = clf.predict(X_test)\n",
    "y_predict_training = clf.predict(X_resampled2)\n",
    "print(\"[Training Classification Report]\")\n",
    "print(classification_report(y_resampled2, y_predict_training))\n",
    "\n",
    "print(\"[Test Classification Report]\")\n",
    "print(classification_report(y_test, y_predict_test))"
   ]
  },
  {
   "cell_type": "code",
   "execution_count": 75,
   "id": "personalized-analysis",
   "metadata": {},
   "outputs": [
    {
     "data": {
      "image/png": "[encoded data removed]",
      "text/plain": [
       "<Figure size 432x288 with 1 Axes>"
      ]
     },
     "metadata": {
      "needs_background": "light"
     },
     "output_type": "display_data"
    }
   ],
   "source": [
    "y_pred_proba = clf.predict_proba(X_test)[::,1]\n",
    "fpr, tpr, _ = metrics.roc_curve(y_test,  y_pred_proba, pos_label='Y')\n",
    "auc = metrics.roc_auc_score(y_test, y_pred_proba)\n",
    "plt.plot(fpr,tpr,label=\"data 1, auc=\"+str(auc))\n",
    "plt.legend(loc=4)\n",
    "plt.show()"
   ]
  },
  {
   "cell_type": "markdown",
   "id": "cheap-village",
   "metadata": {},
   "source": [
    "#### Performance metrics for the minority class recall has seen the best improvement in the test set with an increase from .43 to .60, while simultaneously improving the precision of the majority class in the test set. There was a significant decrease in performance of the precision for the minority class in the test set that cannot be ignored, however. At this point, I have achieved the goal of improving the recall score of the minority class by utilizing undersampling of the training set. Utilizing both oversampling and undersampling, as well as SMOTE on a Random Forest Algorithm will be my next step. "
   ]
  },
  {
   "cell_type": "markdown",
   "id": "primary-riverside",
   "metadata": {},
   "source": [
    "## Random Forest "
   ]
  },
  {
   "cell_type": "code",
   "execution_count": 49,
   "id": "wireless-diameter",
   "metadata": {},
   "outputs": [
    {
     "name": "stdout",
     "output_type": "stream",
     "text": [
      "[Test Classification Report]\n",
      "              precision    recall  f1-score   support\n",
      "\n",
      "           N       0.65      0.55      0.60        58\n",
      "           Y       0.81      0.87      0.84       127\n",
      "\n",
      "    accuracy                           0.77       185\n",
      "   macro avg       0.73      0.71      0.72       185\n",
      "weighted avg       0.76      0.77      0.76       185\n",
      "\n"
     ]
    }
   ],
   "source": [
    "from sklearn.ensemble import RandomForestClassifier\n",
    "clf = RandomForestClassifier()\n",
    "ros = RandomOverSampler()\n",
    "X_resampled3, y_resampled3 = ros.fit_resample(X_train, y_train)\n",
    "clf.fit(X_resampled3, y_resampled3)\n",
    "y_predict_test = clf.predict(X_test)\n",
    "y_predict_training = clf.predict(X_resampled3)\n",
    "\n",
    "print(\"[Test Classification Report]\")\n",
    "print(classification_report(y_test, y_predict_test))"
   ]
  },
  {
   "cell_type": "markdown",
   "id": "rough-queensland",
   "metadata": {},
   "source": [
    "#### The training set results were perfect across the board for the Random Forest model, with the test set being significantly better than the oversampling results on the baseline Log. Regression model. It will be interesting to see the effects of SMOTE on this model as well! "
   ]
  },
  {
   "cell_type": "code",
   "execution_count": 48,
   "id": "suspected-pepper",
   "metadata": {},
   "outputs": [
    {
     "name": "stdout",
     "output_type": "stream",
     "text": [
      "[Test Classification Report]\n",
      "              precision    recall  f1-score   support\n",
      "\n",
      "           N       0.72      0.57      0.63        58\n",
      "           Y       0.82      0.90      0.86       127\n",
      "\n",
      "    accuracy                           0.79       185\n",
      "   macro avg       0.77      0.73      0.75       185\n",
      "weighted avg       0.79      0.79      0.79       185\n",
      "\n"
     ]
    }
   ],
   "source": [
    "X_resampled4, y_resampled4 = SMOTE().fit_resample(X_train, y_train)\n",
    "#construct Logistic Regression model\n",
    "clf = RandomForestClassifier()\n",
    "#fit the model on the training data\n",
    "clf.fit(X_resampled4, y_resampled4)\n",
    "#introduce variable to be reused later \n",
    "y_predict_test = clf.predict(X_test)\n",
    "y_predict_training = clf.predict(X_resampled4)\n",
    "\n",
    "print(\"[Test Classification Report]\")\n",
    "print(classification_report(y_test, y_predict_test))"
   ]
  },
  {
   "cell_type": "code",
   "execution_count": 70,
   "id": "further-indication",
   "metadata": {},
   "outputs": [
    {
     "data": {
      "image/png": "[encoded data removed]",
      "text/plain": [
       "<Figure size 432x288 with 1 Axes>"
      ]
     },
     "metadata": {
      "needs_background": "light"
     },
     "output_type": "display_data"
    }
   ],
   "source": [
    "y_pred_proba = clf.predict_proba(X_test)[::,1]\n",
    "fpr, tpr, _ = metrics.roc_curve(y_test,  y_pred_proba, pos_label='Y')\n",
    "auc = metrics.roc_auc_score(y_test, y_pred_proba)\n",
    "plt.plot(fpr,tpr,label=\"data 1, auc=\"+str(auc))\n",
    "plt.legend(loc=4)\n",
    "plt.show()"
   ]
  },
  {
   "cell_type": "markdown",
   "id": "going-tomato",
   "metadata": {},
   "source": [
    "#### Overall, this model performs marginally better on the test set than Random Oversampled model with the Precision scores of both classes increasing as well as the recall score of the Majority class. The recall for the minority class performed a little worse, by .02, in this model than the ROS. "
   ]
  },
  {
   "cell_type": "code",
   "execution_count": 47,
   "id": "correct-elevation",
   "metadata": {},
   "outputs": [
    {
     "name": "stdout",
     "output_type": "stream",
     "text": [
      "[Test Classification Report]\n",
      "              precision    recall  f1-score   support\n",
      "\n",
      "           N       0.53      0.60      0.56        58\n",
      "           Y       0.81      0.76      0.78       127\n",
      "\n",
      "    accuracy                           0.71       185\n",
      "   macro avg       0.67      0.68      0.67       185\n",
      "weighted avg       0.72      0.71      0.71       185\n",
      "\n"
     ]
    }
   ],
   "source": [
    "rus = RandomUnderSampler()\n",
    "X_resampled5, y_resampled5 = rus.fit_resample(X_train, y_train)\n",
    "#construct Logistic Regression model\n",
    "clf = RandomForestClassifier()\n",
    "#fit the model on the training data\n",
    "clf.fit(X_resampled5, y_resampled5)\n",
    "#introduce variable to be reused later \n",
    "y_predict_test = clf.predict(X_test)\n",
    "y_predict_training = clf.predict(X_resampled5)\n",
    "\n",
    "print(\"[Test Classification Report]\")\n",
    "print(classification_report(y_test, y_predict_test))"
   ]
  },
  {
   "cell_type": "markdown",
   "id": "certain-reset",
   "metadata": {},
   "source": [
    "#### Comparing the recall and precision scores for the ROS, RUS, and SMOTE resampling for the Random Forest Model, I believe the best model would be the SMOTE resampled Random Forest. This model performs better than the baseline model as well! Looking at how another algorithm performs will be valuable as well. "
   ]
  },
  {
   "cell_type": "markdown",
   "id": "cleared-footage",
   "metadata": {},
   "source": [
    "## Decision Tree"
   ]
  },
  {
   "cell_type": "code",
   "execution_count": 30,
   "id": "white-testimony",
   "metadata": {},
   "outputs": [],
   "source": [
    "from sklearn.tree import DecisionTreeClassifier"
   ]
  },
  {
   "cell_type": "code",
   "execution_count": 44,
   "id": "racial-prisoner",
   "metadata": {},
   "outputs": [
    {
     "name": "stdout",
     "output_type": "stream",
     "text": [
      "[Test Classification Report]\n",
      "              precision    recall  f1-score   support\n",
      "\n",
      "           N       0.58      0.52      0.55        58\n",
      "           Y       0.79      0.83      0.81       127\n",
      "\n",
      "    accuracy                           0.73       185\n",
      "   macro avg       0.68      0.67      0.68       185\n",
      "weighted avg       0.72      0.73      0.73       185\n",
      "\n"
     ]
    }
   ],
   "source": [
    "clf = DecisionTreeClassifier()\n",
    "ros = RandomOverSampler()\n",
    "X_resampled6, y_resampled6 = ros.fit_resample(X_train, y_train)\n",
    "clf.fit(X_resampled6, y_resampled6)\n",
    "y_predict_test = clf.predict(X_test)\n",
    "y_predict_training = clf.predict(X_resampled6)\n",
    "\n",
    "print(\"[Test Classification Report]\")\n",
    "print(classification_report(y_test, y_predict_test))"
   ]
  },
  {
   "cell_type": "markdown",
   "id": "mineral-hydrogen",
   "metadata": {},
   "source": [
    "#### It appears as though the Decision Tree Classifier performance after ROS is closer to the results we saw from the Log. Reg. Model, that being it is not quite as good as the Random Forest Model. "
   ]
  },
  {
   "cell_type": "code",
   "execution_count": 45,
   "id": "static-armor",
   "metadata": {},
   "outputs": [
    {
     "name": "stdout",
     "output_type": "stream",
     "text": [
      "[Test Classification Report]\n",
      "              precision    recall  f1-score   support\n",
      "\n",
      "           N       0.57      0.55      0.56        58\n",
      "           Y       0.80      0.81      0.80       127\n",
      "\n",
      "    accuracy                           0.73       185\n",
      "   macro avg       0.68      0.68      0.68       185\n",
      "weighted avg       0.73      0.73      0.73       185\n",
      "\n"
     ]
    }
   ],
   "source": [
    "X_resampled7, y_resampled7 = SMOTE().fit_resample(X_train, y_train)\n",
    "#construct Logistic Regression model\n",
    "clf = DecisionTreeClassifier()\n",
    "#fit the model on the training data\n",
    "clf.fit(X_resampled7, y_resampled7)\n",
    "#introduce variable to be reused later \n",
    "y_predict_test = clf.predict(X_test)\n",
    "y_predict_training = clf.predict(X_resampled7)\n",
    "\n",
    "print(\"[Test Classification Report]\")\n",
    "print(classification_report(y_test, y_predict_test))"
   ]
  },
  {
   "cell_type": "markdown",
   "id": "ambient-chest",
   "metadata": {},
   "source": [
    "#### We see a similar performance in this model with SMOTE resampling methods applied, marginally better than the baseline model, but not as good as the Random Forest Model. "
   ]
  },
  {
   "cell_type": "code",
   "execution_count": 46,
   "id": "divided-sword",
   "metadata": {},
   "outputs": [
    {
     "name": "stdout",
     "output_type": "stream",
     "text": [
      "[Test Classification Report]\n",
      "              precision    recall  f1-score   support\n",
      "\n",
      "           N       0.39      0.52      0.45        58\n",
      "           Y       0.74      0.64      0.69       127\n",
      "\n",
      "    accuracy                           0.60       185\n",
      "   macro avg       0.57      0.58      0.57       185\n",
      "weighted avg       0.63      0.60      0.61       185\n",
      "\n"
     ]
    }
   ],
   "source": [
    "rus = RandomUnderSampler()\n",
    "X_resampled8, y_resampled8 = rus.fit_resample(X_train, y_train)\n",
    "#construct Logistic Regression model\n",
    "clf = DecisionTreeClassifier()\n",
    "#fit the model on the training data\n",
    "clf.fit(X_resampled8, y_resampled8)\n",
    "#introduce variable to be reused later \n",
    "y_predict_test = clf.predict(X_test)\n",
    "y_predict_training = clf.predict(X_resampled8)\n",
    "\n",
    "print(\"[Test Classification Report]\")\n",
    "print(classification_report(y_test, y_predict_test))"
   ]
  },
  {
   "cell_type": "markdown",
   "id": "allied-third",
   "metadata": {},
   "source": [
    "#### And with the RUS methods on the Decision Tree algorithm we see again that it is not nearly as effective as the Random Forest Model. "
   ]
  },
  {
   "cell_type": "markdown",
   "id": "organized-permit",
   "metadata": {},
   "source": [
    "## ROC/AUC for Random Forest Model (SMOTE) and Logistic Regression Model (Undersampled)"
   ]
  },
  {
   "cell_type": "code",
   "execution_count": null,
   "id": "sudden-sheet",
   "metadata": {},
   "outputs": [],
   "source": []
  }
 ],
 "metadata": {
  "kernelspec": {
   "display_name": "Python 3",
   "language": "python",
   "name": "python3"
  },
  "language_info": {
   "codemirror_mode": {
    "name": "ipython",
    "version": 3
   },
   "file_extension": ".py",
   "mimetype": "text/x-python",
   "name": "python",
   "nbconvert_exporter": "python",
   "pygments_lexer": "ipython3",
   "version": "3.8.8"
  }
 },
 "nbformat": 4,
 "nbformat_minor": 5
}
