{
 "cells": [
  {
   "cell_type": "markdown",
   "id": "unexpected-shepherd",
   "metadata": {},
   "source": [
    "# Preprocessing: Baseline ARIMA model for Cardano(ADA) "
   ]
  },
  {
   "cell_type": "markdown",
   "id": "increasing-bunch",
   "metadata": {},
   "source": [
    "## Overview: \n",
    "\n",
    "Up to this point, we have seen that Cardano has had a volatile 4-years since it's inception. It has increased in value exponentially within the first few months of it being listed on exchanges to purchase and trade. It has grown from being worth less than half a billion dollars to over forty billion dollars in marketcap in just four years. \n",
    "\n",
    "As outlined in the EDA notebook, Cardano's success is largely contingent upon the direction Bitcoin is moving in the market. If Bitcoin is on a downward trajectory, Cardano will follow; the same can be said for movement to the upside. Even though the usecase for each cryptocurrency is so different, with Bitcoin being primarily the 'gold' of digital currency and Cardano creating and attempting to roll out their blockchain to trade, purchase and sell digital goods, Bitcoin's movement determines the value of Cardano for those attempting to make profit off of trading. \n",
    "\n",
    "**1. Sourcing and loading** \n",
    "- Load relevant libraries \n",
    "- Load the data\n",
    "- Explore the data\n",
    "\n",
    " \n",
    "**2. Cleaning, transforming and visualizing**\n",
    "- Dropping unwanted columns\n",
    "- Type conversions\n",
    "- Making a predictor variable `y` \n",
    "- Getting summary statistics for `y`\n",
    "- Plotting `y`\n",
    "  \n",
    "  \n",
    "**3. Modelling** \n",
    "- Decomposition\n",
    "    - Trend\n",
    "    - Seasonality\n",
    "    - Noise\n",
    "- Test for data stationarity with KPSS\n",
    "- Make the ARIMA Model\n",
    "- Visualize the results\n",
    "- Application: Forecasting\n",
    "\n",
    "**4. Evaluating and concluding** \n",
    "- What is our conclusion?\n",
    "- Next steps"
   ]
  },
  {
   "cell_type": "markdown",
   "id": "found-focus",
   "metadata": {},
   "source": [
    "# 1. Sourcing and Loading "
   ]
  },
  {
   "cell_type": "code",
   "execution_count": 1,
   "id": "elegant-remedy",
   "metadata": {},
   "outputs": [],
   "source": [
    "# import and load libraries\n",
    "import pandas as pd \n",
    "import numpy as np \n",
    "import matplotlib.pyplot as plt \n",
    "%matplotlib inline"
   ]
  },
  {
   "cell_type": "code",
   "execution_count": 2,
   "id": "parallel-glass",
   "metadata": {},
   "outputs": [
    {
     "data": {
      "text/html": [
       "<div>\n",
       "<style scoped>\n",
       "    .dataframe tbody tr th:only-of-type {\n",
       "        vertical-align: middle;\n",
       "    }\n",
       "\n",
       "    .dataframe tbody tr th {\n",
       "        vertical-align: top;\n",
       "    }\n",
       "\n",
       "    .dataframe thead th {\n",
       "        text-align: right;\n",
       "    }\n",
       "</style>\n",
       "<table border=\"1\" class=\"dataframe\">\n",
       "  <thead>\n",
       "    <tr style=\"text-align: right;\">\n",
       "      <th></th>\n",
       "      <th>Unnamed: 0</th>\n",
       "      <th>Symbol</th>\n",
       "      <th>Date</th>\n",
       "      <th>High</th>\n",
       "      <th>Low</th>\n",
       "      <th>Open</th>\n",
       "      <th>Close</th>\n",
       "      <th>Volume</th>\n",
       "      <th>Marketcap</th>\n",
       "    </tr>\n",
       "  </thead>\n",
       "  <tbody>\n",
       "    <tr>\n",
       "      <th>0</th>\n",
       "      <td>0</td>\n",
       "      <td>ADA</td>\n",
       "      <td>2017-10-02</td>\n",
       "      <td>0.030088</td>\n",
       "      <td>0.019969</td>\n",
       "      <td>0.024607</td>\n",
       "      <td>0.025932</td>\n",
       "      <td>57641300.0</td>\n",
       "      <td>6.288991e+08</td>\n",
       "    </tr>\n",
       "    <tr>\n",
       "      <th>1</th>\n",
       "      <td>1</td>\n",
       "      <td>ADA</td>\n",
       "      <td>2017-10-03</td>\n",
       "      <td>0.027425</td>\n",
       "      <td>0.020690</td>\n",
       "      <td>0.025757</td>\n",
       "      <td>0.020816</td>\n",
       "      <td>16997800.0</td>\n",
       "      <td>5.396927e+08</td>\n",
       "    </tr>\n",
       "    <tr>\n",
       "      <th>2</th>\n",
       "      <td>2</td>\n",
       "      <td>ADA</td>\n",
       "      <td>2017-10-04</td>\n",
       "      <td>0.022806</td>\n",
       "      <td>0.020864</td>\n",
       "      <td>0.020864</td>\n",
       "      <td>0.021931</td>\n",
       "      <td>9000050.0</td>\n",
       "      <td>5.686195e+08</td>\n",
       "    </tr>\n",
       "    <tr>\n",
       "      <th>3</th>\n",
       "      <td>3</td>\n",
       "      <td>ADA</td>\n",
       "      <td>2017-10-05</td>\n",
       "      <td>0.022154</td>\n",
       "      <td>0.020859</td>\n",
       "      <td>0.021951</td>\n",
       "      <td>0.021489</td>\n",
       "      <td>5562510.0</td>\n",
       "      <td>5.571390e+08</td>\n",
       "    </tr>\n",
       "    <tr>\n",
       "      <th>4</th>\n",
       "      <td>4</td>\n",
       "      <td>ADA</td>\n",
       "      <td>2017-10-06</td>\n",
       "      <td>0.021542</td>\n",
       "      <td>0.018360</td>\n",
       "      <td>0.021359</td>\n",
       "      <td>0.018539</td>\n",
       "      <td>7780710.0</td>\n",
       "      <td>4.806646e+08</td>\n",
       "    </tr>\n",
       "  </tbody>\n",
       "</table>\n",
       "</div>"
      ],
      "text/plain": [
       "   Unnamed: 0 Symbol        Date      High       Low      Open     Close  \\\n",
       "0           0    ADA  2017-10-02  0.030088  0.019969  0.024607  0.025932   \n",
       "1           1    ADA  2017-10-03  0.027425  0.020690  0.025757  0.020816   \n",
       "2           2    ADA  2017-10-04  0.022806  0.020864  0.020864  0.021931   \n",
       "3           3    ADA  2017-10-05  0.022154  0.020859  0.021951  0.021489   \n",
       "4           4    ADA  2017-10-06  0.021542  0.018360  0.021359  0.018539   \n",
       "\n",
       "       Volume     Marketcap  \n",
       "0  57641300.0  6.288991e+08  \n",
       "1  16997800.0  5.396927e+08  \n",
       "2   9000050.0  5.686195e+08  \n",
       "3   5562510.0  5.571390e+08  \n",
       "4   7780710.0  4.806646e+08  "
      ]
     },
     "execution_count": 2,
     "metadata": {},
     "output_type": "execute_result"
    }
   ],
   "source": [
    "# load df and print first 10 rows\n",
    "ADA_df = pd.read_csv('../Capstone_Project_3/Data/ADA_df.csv')\n",
    "ADA_df.head()"
   ]
  },
  {
   "cell_type": "code",
   "execution_count": 3,
   "id": "helpful-juvenile",
   "metadata": {},
   "outputs": [
    {
     "data": {
      "text/plain": [
       "Unnamed: 0      int64\n",
       "Symbol         object\n",
       "Date           object\n",
       "High          float64\n",
       "Low           float64\n",
       "Open          float64\n",
       "Close         float64\n",
       "Volume        float64\n",
       "Marketcap     float64\n",
       "dtype: object"
      ]
     },
     "execution_count": 3,
     "metadata": {},
     "output_type": "execute_result"
    }
   ],
   "source": [
    "#check dtypes\n",
    "ADA_df.dtypes"
   ]
  },
  {
   "cell_type": "markdown",
   "id": "pediatric-landscape",
   "metadata": {},
   "source": [
    "# 2. Cleaning, Transforming, Visualizing"
   ]
  },
  {
   "cell_type": "code",
   "execution_count": 4,
   "id": "violent-blind",
   "metadata": {},
   "outputs": [
    {
     "data": {
      "text/html": [
       "<div>\n",
       "<style scoped>\n",
       "    .dataframe tbody tr th:only-of-type {\n",
       "        vertical-align: middle;\n",
       "    }\n",
       "\n",
       "    .dataframe tbody tr th {\n",
       "        vertical-align: top;\n",
       "    }\n",
       "\n",
       "    .dataframe thead th {\n",
       "        text-align: right;\n",
       "    }\n",
       "</style>\n",
       "<table border=\"1\" class=\"dataframe\">\n",
       "  <thead>\n",
       "    <tr style=\"text-align: right;\">\n",
       "      <th></th>\n",
       "      <th>Date</th>\n",
       "      <th>Close</th>\n",
       "    </tr>\n",
       "  </thead>\n",
       "  <tbody>\n",
       "    <tr>\n",
       "      <th>0</th>\n",
       "      <td>2017-10-02</td>\n",
       "      <td>0.025932</td>\n",
       "    </tr>\n",
       "    <tr>\n",
       "      <th>1</th>\n",
       "      <td>2017-10-03</td>\n",
       "      <td>0.020816</td>\n",
       "    </tr>\n",
       "    <tr>\n",
       "      <th>2</th>\n",
       "      <td>2017-10-04</td>\n",
       "      <td>0.021931</td>\n",
       "    </tr>\n",
       "    <tr>\n",
       "      <th>3</th>\n",
       "      <td>2017-10-05</td>\n",
       "      <td>0.021489</td>\n",
       "    </tr>\n",
       "    <tr>\n",
       "      <th>4</th>\n",
       "      <td>2017-10-06</td>\n",
       "      <td>0.018539</td>\n",
       "    </tr>\n",
       "  </tbody>\n",
       "</table>\n",
       "</div>"
      ],
      "text/plain": [
       "         Date     Close\n",
       "0  2017-10-02  0.025932\n",
       "1  2017-10-03  0.020816\n",
       "2  2017-10-04  0.021931\n",
       "3  2017-10-05  0.021489\n",
       "4  2017-10-06  0.018539"
      ]
     },
     "execution_count": 4,
     "metadata": {},
     "output_type": "execute_result"
    }
   ],
   "source": [
    "#create df with only 'Date' and 'Close'\n",
    "df = ADA_df[['Date', 'Close']]\n",
    "df.head()"
   ]
  },
  {
   "cell_type": "code",
   "execution_count": 5,
   "id": "immune-sigma",
   "metadata": {},
   "outputs": [
    {
     "data": {
      "text/html": [
       "<div>\n",
       "<style scoped>\n",
       "    .dataframe tbody tr th:only-of-type {\n",
       "        vertical-align: middle;\n",
       "    }\n",
       "\n",
       "    .dataframe tbody tr th {\n",
       "        vertical-align: top;\n",
       "    }\n",
       "\n",
       "    .dataframe thead th {\n",
       "        text-align: right;\n",
       "    }\n",
       "</style>\n",
       "<table border=\"1\" class=\"dataframe\">\n",
       "  <thead>\n",
       "    <tr style=\"text-align: right;\">\n",
       "      <th></th>\n",
       "      <th>Day</th>\n",
       "      <th>Price</th>\n",
       "    </tr>\n",
       "  </thead>\n",
       "  <tbody>\n",
       "    <tr>\n",
       "      <th>1240</th>\n",
       "      <td>2021-02-23</td>\n",
       "      <td>0.954709</td>\n",
       "    </tr>\n",
       "    <tr>\n",
       "      <th>1241</th>\n",
       "      <td>2021-02-24</td>\n",
       "      <td>1.051657</td>\n",
       "    </tr>\n",
       "    <tr>\n",
       "      <th>1242</th>\n",
       "      <td>2021-02-25</td>\n",
       "      <td>1.079116</td>\n",
       "    </tr>\n",
       "    <tr>\n",
       "      <th>1243</th>\n",
       "      <td>2021-02-26</td>\n",
       "      <td>1.241105</td>\n",
       "    </tr>\n",
       "    <tr>\n",
       "      <th>1244</th>\n",
       "      <td>2021-02-27</td>\n",
       "      <td>1.324860</td>\n",
       "    </tr>\n",
       "  </tbody>\n",
       "</table>\n",
       "</div>"
      ],
      "text/plain": [
       "             Day     Price\n",
       "1240  2021-02-23  0.954709\n",
       "1241  2021-02-24  1.051657\n",
       "1242  2021-02-25  1.079116\n",
       "1243  2021-02-26  1.241105\n",
       "1244  2021-02-27  1.324860"
      ]
     },
     "execution_count": 5,
     "metadata": {},
     "output_type": "execute_result"
    }
   ],
   "source": [
    "#change 'Date' to 'Day' since the granularity is 24 hours. \n",
    "df = df.rename(columns={'Date':'Day', 'Close':'Price'})\n",
    "df.tail()"
   ]
  },
  {
   "cell_type": "code",
   "execution_count": 6,
   "id": "stable-notion",
   "metadata": {},
   "outputs": [],
   "source": [
    "#convert 'Day' from an object to a datetime64. \n",
    "df['Day'] = pd.to_datetime(df['Day'])\n",
    "df.set_index('Day', inplace = True)"
   ]
  },
  {
   "cell_type": "code",
   "execution_count": 7,
   "id": "intellectual-insider",
   "metadata": {},
   "outputs": [
    {
     "data": {
      "text/plain": [
       "dtype('float64')"
      ]
     },
     "execution_count": 7,
     "metadata": {},
     "output_type": "execute_result"
    }
   ],
   "source": [
    "#make 'Price' the predictor variable 'y' and check data type\n",
    "y = df['Price']\n",
    "y.dtypes"
   ]
  },
  {
   "cell_type": "code",
   "execution_count": 8,
   "id": "alive-insulation",
   "metadata": {},
   "outputs": [
    {
     "data": {
      "text/plain": [
       "count    1245.000000\n",
       "mean        0.138757\n",
       "std         0.177812\n",
       "min         0.018539\n",
       "25%         0.044328\n",
       "50%         0.080952\n",
       "75%         0.143573\n",
       "max         1.324860\n",
       "Name: Price, dtype: float64"
      ]
     },
     "execution_count": 8,
     "metadata": {},
     "output_type": "execute_result"
    }
   ],
   "source": [
    "#get summary statistics of 'y'\n",
    "y.describe()"
   ]
  },
  {
   "cell_type": "code",
   "execution_count": 9,
   "id": "romantic-chapel",
   "metadata": {},
   "outputs": [
    {
     "data": {
      "text/plain": [
       "<AxesSubplot:xlabel='Day'>"
      ]
     },
     "execution_count": 9,
     "metadata": {},
     "output_type": "execute_result"
    },
    {
     "data": {
      "image/png": "[encoded data removed]",
      "text/plain": [
       "<Figure size 432x288 with 1 Axes>"
      ]
     },
     "metadata": {
      "needs_background": "light"
     },
     "output_type": "display_data"
    }
   ],
   "source": [
    "# plot 'y'\n",
    "y.plot()"
   ]
  },
  {
   "cell_type": "markdown",
   "id": "colored-terrace",
   "metadata": {},
   "source": [
    "# 3. Modeling\n",
    "## Decomposition\n",
    "\n",
    "**Trend**: ADA does have an upward trend from when it began to this point. It looks as though once a peak has formed you can expect extreme downward motion. \n",
    "**Seasonality**: It does not look like there is seasonality that can be intuited from this representation. \n",
    "**Noise**: There is quite a bit of variance in the price. "
   ]
  },
  {
   "cell_type": "code",
   "execution_count": 10,
   "id": "encouraging-norwegian",
   "metadata": {},
   "outputs": [
    {
     "data": {
      "image/png": "[encoded data removed]",
      "text/plain": [
       "<Figure size 432x288 with 4 Axes>"
      ]
     },
     "metadata": {
      "needs_background": "light"
     },
     "output_type": "display_data"
    }
   ],
   "source": [
    "#plot the seasonality, trend, and residuals compared to the observed line\n",
    "import statsmodels.api as sm\n",
    "\n",
    "decomposition = sm.tsa.seasonal_decompose(y, model='additive')\n",
    "observed = decomposition.observed\n",
    "seasonal = decomposition.seasonal\n",
    "residual = decomposition.resid\n",
    "trend = decomposition.trend\n",
    "\n",
    "plt.subplot(411)\n",
    "plt.title('Observed')\n",
    "plt.plot(observed, label='Observed')\n",
    "plt.subplot(412)\n",
    "plt.title('Seasonal')\n",
    "plt.plot(seasonal, label='Seasonal')\n",
    "plt.subplot(413)\n",
    "plt.title('Residual')\n",
    "plt.plot(residual, label='Residual')\n",
    "plt.subplot(414)\n",
    "plt.title('Trend')\n",
    "plt.plot(trend, label='Trend')\n",
    "plt.tight_layout(pad=1)"
   ]
  },
  {
   "cell_type": "code",
   "execution_count": 11,
   "id": "unlikely-impression",
   "metadata": {},
   "outputs": [
    {
     "name": "stderr",
     "output_type": "stream",
     "text": [
      "/Users/Reeves1/opt/anaconda3/lib/python3.8/site-packages/statsmodels/tsa/stattools.py:1875: FutureWarning: The behavior of using nlags=None will change in release 0.13.Currently nlags=None is the same as nlags=\"legacy\", and so a sample-size lag length is used. After the next release, the default will change to be the same as nlags=\"auto\" which uses an automatic lag length selection method. To silence this warning, either use \"auto\" or \"legacy\"\n",
      "  warnings.warn(msg, FutureWarning)\n"
     ]
    },
    {
     "data": {
      "text/plain": [
       "(0.5568613792080169,\n",
       " 0.02886004972792411,\n",
       " 23,\n",
       " {'10%': 0.347, '5%': 0.463, '2.5%': 0.574, '1%': 0.739})"
      ]
     },
     "execution_count": 11,
     "metadata": {},
     "output_type": "execute_result"
    }
   ],
   "source": [
    "#check for stationarity\n",
    "from statsmodels.tsa.stattools import kpss\n",
    "kpss(y)"
   ]
  },
  {
   "cell_type": "markdown",
   "id": "intensive-hello",
   "metadata": {},
   "source": [
    "With the p-value being less than .05, we can reject the null hypothesis and assume that our data is not stationary. "
   ]
  },
  {
   "cell_type": "code",
   "execution_count": 12,
   "id": "parental-calculator",
   "metadata": {},
   "outputs": [
    {
     "data": {
      "text/plain": [
       "<AxesSubplot:xlabel='Day'>"
      ]
     },
     "execution_count": 12,
     "metadata": {},
     "output_type": "execute_result"
    },
    {
     "data": {
      "image/png": "[encoded data removed]",
      "text/plain": [
       "<Figure size 432x288 with 1 Axes>"
      ]
     },
     "metadata": {
      "needs_background": "light"
     },
     "output_type": "display_data"
    }
   ],
   "source": [
    "# log transformation to account for variance in the data\n",
    "y_log = np.log(y)\n",
    "y_log.plot()"
   ]
  },
  {
   "cell_type": "code",
   "execution_count": 13,
   "id": "crazy-raising",
   "metadata": {},
   "outputs": [
    {
     "data": {
      "text/plain": [
       "(0.21929158236343513,\n",
       " 0.1,\n",
       " 23,\n",
       " {'10%': 0.347, '5%': 0.463, '2.5%': 0.574, '1%': 0.739})"
      ]
     },
     "execution_count": 13,
     "metadata": {},
     "output_type": "execute_result"
    }
   ],
   "source": [
    "#with the variance addressed, we must address the lack of a constant mean. \n",
    "#.diff() function on y_log should do the trick. \n",
    "import warnings\n",
    "warnings.filterwarnings(\"ignore\")\n",
    "kpss(y_log.diff().dropna())"
   ]
  },
  {
   "cell_type": "markdown",
   "id": "colored-medline",
   "metadata": {},
   "source": [
    "The p-value is now above .05, indicating the constant mean and constant variance has been effected in a way that can allow us to accept the null hypothesis that the stationarity of the data is acceptable. This also implies that the d-value for the ARIMA model is 1. "
   ]
  },
  {
   "cell_type": "code",
   "execution_count": 23,
   "id": "bibliographic-leone",
   "metadata": {},
   "outputs": [],
   "source": [
    "# Import mean_squared_error and ARIMA\n",
    "from sklearn.metrics import mean_absolute_percentage_error, mean_squared_error, mean_absolute_error\n",
    "from statsmodels.tsa.arima_model import ARIMA"
   ]
  },
  {
   "cell_type": "code",
   "execution_count": 52,
   "id": "fewer-nothing",
   "metadata": {},
   "outputs": [],
   "source": [
    "# Train/Test split at 85/15, with the intent of tuning the parameters on the training data to find the best model.\n",
    "split=int(len(y_log) * 0.8) \n",
    "y_train, y_test = y_log[0:split], y_log[split:len(y_log)]"
   ]
  },
  {
   "cell_type": "code",
   "execution_count": 53,
   "id": "actual-motor",
   "metadata": {},
   "outputs": [],
   "source": [
    "# Make a function called evaluate_arima_model to find the MSE of a single ARIMA model \n",
    "def evaluate_arima_model(train, test, arima_order):\n",
    "    # Needs to be an integer because it is later used as an index.\n",
    "    # Use int()\n",
    "    #split=int(len(data) * 0.8) \n",
    "    # Make train and test variables, with 'train, test'\n",
    "    #train, test = data[0:split], data[split:len(data)]\n",
    "    past=[x for x in train]\n",
    "    # make predictions\n",
    "    predictions = list()\n",
    "    for i in range(len(test)):#timestep-wise comparison between test data and one-step prediction ARIMA model. \n",
    "        model = ARIMA(past, order=arima_order)\n",
    "        model_fit = model.fit(disp=0)\n",
    "        future = model_fit.forecast()[0]\n",
    "        predictions.append(future)\n",
    "        past.append(test[i])\n",
    "    # calculate out of sample error\n",
    "    error = mean_absolute_error(test, predictions)\n",
    "    # Return the error\n",
    "    return error"
   ]
  },
  {
   "cell_type": "code",
   "execution_count": 54,
   "id": "tamil-dressing",
   "metadata": {},
   "outputs": [],
   "source": [
    "# Make a function to evaluate different ARIMA models with several different p, d, and q values.\n",
    "def evaluate_models(dataset, p_values, d_values, q_values):\n",
    "    best_score, best_cfg = float(\"inf\"), None\n",
    "    # Iterate through p_values\n",
    "    for p in p_values:\n",
    "        # Iterate through d_values\n",
    "        for d in d_values:\n",
    "            # Iterate through q_values\n",
    "            for q in q_values:\n",
    "                # p, d, q iterator variables in that order\n",
    "                order = (p,d,q)\n",
    "                try:\n",
    "                    # Make a variable called mse for the Mean squared error\n",
    "                    split=int(len(dataset) * 0.9) \n",
    "                    train, test = dataset[0:split], dataset[split:len(dataset)]\n",
    "                    mae = evaluate_arima_model(train, test, order)\n",
    "                    if mae < best_score:\n",
    "                        best_score, best_cfg = mae, order\n",
    "                    print('ARIMA%s MAE=%.3f' % (order,mae))\n",
    "                except:\n",
    "                    continue\n",
    "    return print('Best ARIMA%s MAE=%.3f' % (best_cfg, best_score))"
   ]
  },
  {
   "cell_type": "code",
   "execution_count": 55,
   "id": "alleged-thanks",
   "metadata": {},
   "outputs": [
    {
     "name": "stdout",
     "output_type": "stream",
     "text": [
      "ARIMA(0, 0, 0) MAE=0.516\n",
      "ARIMA(0, 0, 1) MAE=0.280\n",
      "ARIMA(0, 1, 0) MAE=0.038\n",
      "ARIMA(0, 1, 1) MAE=0.038\n",
      "ARIMA(0, 1, 2) MAE=0.038\n",
      "ARIMA(0, 2, 0) MAE=0.065\n",
      "ARIMA(0, 2, 1) MAE=0.040\n",
      "ARIMA(0, 2, 2) MAE=0.040\n",
      "ARIMA(1, 0, 0) MAE=0.038\n",
      "ARIMA(1, 0, 1) MAE=0.038\n",
      "ARIMA(1, 0, 2) MAE=0.038\n",
      "ARIMA(1, 1, 0) MAE=0.038\n",
      "ARIMA(1, 1, 1) MAE=0.039\n",
      "ARIMA(1, 1, 2) MAE=0.038\n",
      "ARIMA(1, 2, 0) MAE=0.049\n",
      "ARIMA(1, 2, 1) MAE=0.039\n",
      "ARIMA(1, 2, 2) MAE=0.039\n",
      "ARIMA(2, 0, 0) MAE=0.038\n",
      "ARIMA(2, 0, 1) MAE=0.038\n",
      "ARIMA(2, 0, 2) MAE=0.038\n",
      "ARIMA(2, 1, 0) MAE=0.038\n",
      "ARIMA(2, 1, 1) MAE=0.038\n",
      "ARIMA(2, 1, 2) MAE=0.038\n",
      "ARIMA(2, 2, 0) MAE=0.047\n",
      "ARIMA(2, 2, 1) MAE=0.039\n",
      "ARIMA(2, 2, 2) MAE=0.039\n",
      "Best ARIMA(1, 0, 2) MAE=0.038\n"
     ]
    }
   ],
   "source": [
    "p_values = [x for x in range(0, 3)]\n",
    "d_values = [x for x in range(0, 3)]\n",
    "q_values = [x for x in range(0, 3)]\n",
    "evaluate_models(y_train, p_values, d_values, q_values)"
   ]
  },
  {
   "cell_type": "code",
   "execution_count": 58,
   "id": "amateur-rehabilitation",
   "metadata": {},
   "outputs": [],
   "source": [
    "#build model with parameters set to Best ARIMA findings above, except using 1 for the d-value. \n",
    "p=1\n",
    "d=1\n",
    "q=2\n",
    "model = ARIMA(y_test, order=(p,d,q))\n",
    "model_fit = model.fit()\n",
    "forecast = model_fit.forecast(30)"
   ]
  },
  {
   "cell_type": "code",
   "execution_count": 59,
   "id": "laden-appendix",
   "metadata": {},
   "outputs": [
    {
     "data": {
      "text/html": [
       "<table class=\"simpletable\">\n",
       "<caption>ARIMA Model Results</caption>\n",
       "<tr>\n",
       "  <th>Dep. Variable:</th>      <td>D.Price</td>     <th>  No. Observations:  </th>    <td>248</td>  \n",
       "</tr>\n",
       "<tr>\n",
       "  <th>Model:</th>          <td>ARIMA(1, 1, 2)</td>  <th>  Log Likelihood     </th>  <td>325.960</td>\n",
       "</tr>\n",
       "<tr>\n",
       "  <th>Method:</th>             <td>css-mle</td>     <th>  S.D. of innovations</th>   <td>0.065</td> \n",
       "</tr>\n",
       "<tr>\n",
       "  <th>Date:</th>          <td>Fri, 02 Jul 2021</td> <th>  AIC                </th> <td>-641.920</td>\n",
       "</tr>\n",
       "<tr>\n",
       "  <th>Time:</th>              <td>10:42:58</td>     <th>  BIC                </th> <td>-624.353</td>\n",
       "</tr>\n",
       "<tr>\n",
       "  <th>Sample:</th>           <td>06-25-2020</td>    <th>  HQIC               </th> <td>-634.848</td>\n",
       "</tr>\n",
       "<tr>\n",
       "  <th></th>                 <td>- 02-27-2021</td>   <th>                     </th>     <td> </td>   \n",
       "</tr>\n",
       "</table>\n",
       "<table class=\"simpletable\">\n",
       "<tr>\n",
       "        <td></td>           <th>coef</th>     <th>std err</th>      <th>z</th>      <th>P>|z|</th>  <th>[0.025</th>    <th>0.975]</th>  \n",
       "</tr>\n",
       "<tr>\n",
       "  <th>const</th>         <td>    0.0135</td> <td>    0.008</td> <td>    1.596</td> <td> 0.111</td> <td>   -0.003</td> <td>    0.030</td>\n",
       "</tr>\n",
       "<tr>\n",
       "  <th>ar.L1.D.Price</th> <td>    0.9834</td> <td>    0.023</td> <td>   43.692</td> <td> 0.000</td> <td>    0.939</td> <td>    1.027</td>\n",
       "</tr>\n",
       "<tr>\n",
       "  <th>ma.L1.D.Price</th> <td>   -0.9925</td> <td>    0.067</td> <td>  -14.871</td> <td> 0.000</td> <td>   -1.123</td> <td>   -0.862</td>\n",
       "</tr>\n",
       "<tr>\n",
       "  <th>ma.L2.D.Price</th> <td>    0.0290</td> <td>    0.062</td> <td>    0.467</td> <td> 0.641</td> <td>   -0.093</td> <td>    0.151</td>\n",
       "</tr>\n",
       "</table>\n",
       "<table class=\"simpletable\">\n",
       "<caption>Roots</caption>\n",
       "<tr>\n",
       "    <td></td>   <th>            Real</th>  <th>         Imaginary</th> <th>         Modulus</th>  <th>        Frequency</th>\n",
       "</tr>\n",
       "<tr>\n",
       "  <th>AR.1</th> <td>           1.0169</td> <td>          +0.0000j</td> <td>           1.0169</td> <td>           0.0000</td>\n",
       "</tr>\n",
       "<tr>\n",
       "  <th>MA.1</th> <td>           1.0392</td> <td>          +0.0000j</td> <td>           1.0392</td> <td>           0.0000</td>\n",
       "</tr>\n",
       "<tr>\n",
       "  <th>MA.2</th> <td>          33.1358</td> <td>          +0.0000j</td> <td>          33.1358</td> <td>           0.0000</td>\n",
       "</tr>\n",
       "</table>"
      ],
      "text/plain": [
       "<class 'statsmodels.iolib.summary.Summary'>\n",
       "\"\"\"\n",
       "                             ARIMA Model Results                              \n",
       "==============================================================================\n",
       "Dep. Variable:                D.Price   No. Observations:                  248\n",
       "Model:                 ARIMA(1, 1, 2)   Log Likelihood                 325.960\n",
       "Method:                       css-mle   S.D. of innovations              0.065\n",
       "Date:                Fri, 02 Jul 2021   AIC                           -641.920\n",
       "Time:                        10:42:58   BIC                           -624.353\n",
       "Sample:                    06-25-2020   HQIC                          -634.848\n",
       "                         - 02-27-2021                                         \n",
       "=================================================================================\n",
       "                    coef    std err          z      P>|z|      [0.025      0.975]\n",
       "---------------------------------------------------------------------------------\n",
       "const             0.0135      0.008      1.596      0.111      -0.003       0.030\n",
       "ar.L1.D.Price     0.9834      0.023     43.692      0.000       0.939       1.027\n",
       "ma.L1.D.Price    -0.9925      0.067    -14.871      0.000      -1.123      -0.862\n",
       "ma.L2.D.Price     0.0290      0.062      0.467      0.641      -0.093       0.151\n",
       "                                    Roots                                    \n",
       "=============================================================================\n",
       "                  Real          Imaginary           Modulus         Frequency\n",
       "-----------------------------------------------------------------------------\n",
       "AR.1            1.0169           +0.0000j            1.0169            0.0000\n",
       "MA.1            1.0392           +0.0000j            1.0392            0.0000\n",
       "MA.2           33.1358           +0.0000j           33.1358            0.0000\n",
       "-----------------------------------------------------------------------------\n",
       "\"\"\""
      ]
     },
     "execution_count": 59,
     "metadata": {},
     "output_type": "execute_result"
    }
   ],
   "source": [
    "#summary of model\n",
    "model_fit.summary()"
   ]
  },
  {
   "cell_type": "code",
   "execution_count": 101,
   "id": "processed-convenience",
   "metadata": {},
   "outputs": [
    {
     "data": {
      "text/html": [
       "<div>\n",
       "<style scoped>\n",
       "    .dataframe tbody tr th:only-of-type {\n",
       "        vertical-align: middle;\n",
       "    }\n",
       "\n",
       "    .dataframe tbody tr th {\n",
       "        vertical-align: top;\n",
       "    }\n",
       "\n",
       "    .dataframe thead th {\n",
       "        text-align: right;\n",
       "    }\n",
       "</style>\n",
       "<table border=\"1\" class=\"dataframe\">\n",
       "  <thead>\n",
       "    <tr style=\"text-align: right;\">\n",
       "      <th></th>\n",
       "      <th>Test_Orig_Price</th>\n",
       "      <th>Log_Y_Test</th>\n",
       "      <th>Pred_Log_Y</th>\n",
       "      <th>Pred_Price</th>\n",
       "      <th>Residuals</th>\n",
       "    </tr>\n",
       "    <tr>\n",
       "      <th>Day</th>\n",
       "      <th></th>\n",
       "      <th></th>\n",
       "      <th></th>\n",
       "      <th></th>\n",
       "      <th></th>\n",
       "    </tr>\n",
       "  </thead>\n",
       "  <tbody>\n",
       "    <tr>\n",
       "      <th>2020-06-25</th>\n",
       "      <td>0.081691</td>\n",
       "      <td>-2.504812</td>\n",
       "      <td>0.013518</td>\n",
       "      <td>1.013610</td>\n",
       "      <td>-0.931919</td>\n",
       "    </tr>\n",
       "    <tr>\n",
       "      <th>2020-06-26</th>\n",
       "      <td>0.080561</td>\n",
       "      <td>-2.518741</td>\n",
       "      <td>0.013453</td>\n",
       "      <td>1.013544</td>\n",
       "      <td>-0.932983</td>\n",
       "    </tr>\n",
       "    <tr>\n",
       "      <th>2020-06-27</th>\n",
       "      <td>0.077679</td>\n",
       "      <td>-2.555176</td>\n",
       "      <td>0.012685</td>\n",
       "      <td>1.012765</td>\n",
       "      <td>-0.935087</td>\n",
       "    </tr>\n",
       "    <tr>\n",
       "      <th>2020-06-28</th>\n",
       "      <td>0.080392</td>\n",
       "      <td>-2.520843</td>\n",
       "      <td>0.011834</td>\n",
       "      <td>1.011904</td>\n",
       "      <td>-0.931512</td>\n",
       "    </tr>\n",
       "    <tr>\n",
       "      <th>2020-06-29</th>\n",
       "      <td>0.083870</td>\n",
       "      <td>-2.478491</td>\n",
       "      <td>0.010467</td>\n",
       "      <td>1.010522</td>\n",
       "      <td>-0.926653</td>\n",
       "    </tr>\n",
       "    <tr>\n",
       "      <th>...</th>\n",
       "      <td>...</td>\n",
       "      <td>...</td>\n",
       "      <td>...</td>\n",
       "      <td>...</td>\n",
       "      <td>...</td>\n",
       "    </tr>\n",
       "    <tr>\n",
       "      <th>2021-02-23</th>\n",
       "      <td>0.954709</td>\n",
       "      <td>-0.046349</td>\n",
       "      <td>0.024532</td>\n",
       "      <td>1.024835</td>\n",
       "      <td>-0.070126</td>\n",
       "    </tr>\n",
       "    <tr>\n",
       "      <th>2021-02-24</th>\n",
       "      <td>1.051657</td>\n",
       "      <td>0.050367</td>\n",
       "      <td>0.025076</td>\n",
       "      <td>1.025393</td>\n",
       "      <td>0.026263</td>\n",
       "    </tr>\n",
       "    <tr>\n",
       "      <th>2021-02-25</th>\n",
       "      <td>1.079116</td>\n",
       "      <td>0.076142</td>\n",
       "      <td>0.019426</td>\n",
       "      <td>1.019616</td>\n",
       "      <td>0.059500</td>\n",
       "    </tr>\n",
       "    <tr>\n",
       "      <th>2021-02-26</th>\n",
       "      <td>1.241105</td>\n",
       "      <td>0.216002</td>\n",
       "      <td>0.021351</td>\n",
       "      <td>1.021580</td>\n",
       "      <td>0.219525</td>\n",
       "    </tr>\n",
       "    <tr>\n",
       "      <th>2021-02-27</th>\n",
       "      <td>1.324860</td>\n",
       "      <td>0.281307</td>\n",
       "      <td>0.020323</td>\n",
       "      <td>1.020531</td>\n",
       "      <td>0.304329</td>\n",
       "    </tr>\n",
       "  </tbody>\n",
       "</table>\n",
       "<p>248 rows × 5 columns</p>\n",
       "</div>"
      ],
      "text/plain": [
       "            Test_Orig_Price  Log_Y_Test  Pred_Log_Y  Pred_Price  Residuals\n",
       "Day                                                                       \n",
       "2020-06-25         0.081691   -2.504812    0.013518    1.013610  -0.931919\n",
       "2020-06-26         0.080561   -2.518741    0.013453    1.013544  -0.932983\n",
       "2020-06-27         0.077679   -2.555176    0.012685    1.012765  -0.935087\n",
       "2020-06-28         0.080392   -2.520843    0.011834    1.011904  -0.931512\n",
       "2020-06-29         0.083870   -2.478491    0.010467    1.010522  -0.926653\n",
       "...                     ...         ...         ...         ...        ...\n",
       "2021-02-23         0.954709   -0.046349    0.024532    1.024835  -0.070126\n",
       "2021-02-24         1.051657    0.050367    0.025076    1.025393   0.026263\n",
       "2021-02-25         1.079116    0.076142    0.019426    1.019616   0.059500\n",
       "2021-02-26         1.241105    0.216002    0.021351    1.021580   0.219525\n",
       "2021-02-27         1.324860    0.281307    0.020323    1.020531   0.304329\n",
       "\n",
       "[248 rows x 5 columns]"
      ]
     },
     "execution_count": 101,
     "metadata": {},
     "output_type": "execute_result"
    }
   ],
   "source": [
    "# create dataframe comparing results of test data to the pred data. \n",
    "Test_Orig_Price = np.exp(y_test)\n",
    "Log_Y_Test = y_test\n",
    "Pred_Log_Y = model_fit.predict()\n",
    "Pred_Price = np.exp(Pred_Log_Y)\n",
    "Residuals = Test_Orig_Price - Pred_Price\n",
    "\n",
    "df[['Test_Orig_Price', 'Log_Y_Test', 'Pred_Log_Y', 'Pred_Price', 'Residuals']] = Test_Orig_Price, Log_Y_Test, Pred_Log_Y, Pred_Price, Residuals\n",
    "df_pred = df.drop(['Price', 'y_log'], axis=1).dropna()\n",
    "df_pred"
   ]
  },
  {
   "cell_type": "code",
   "execution_count": 103,
   "id": "canadian-sweet",
   "metadata": {},
   "outputs": [
    {
     "data": {
      "text/plain": [
       "Text(0.5, 0, 'Difference between Test and Prediction')"
      ]
     },
     "execution_count": 103,
     "metadata": {},
     "output_type": "execute_result"
    },
    {
     "data": {
      "image/png": "[encoded data removed]",
      "text/plain": [
       "<Figure size 432x288 with 1 Axes>"
      ]
     },
     "metadata": {
      "needs_background": "light"
     },
     "output_type": "display_data"
    }
   ],
   "source": [
    "plt.hist(df_pred['Residuals'])\n",
    "plt.title('Distribution of Residuals')\n",
    "plt.ylabel('Number of Days')\n",
    "plt.xlabel('Difference between Test and Prediction')"
   ]
  },
  {
   "cell_type": "markdown",
   "id": "sticky-blocking",
   "metadata": {},
   "source": [
    "As is shown in the above histogram, the model is struggling to accurately fit the predicted line closely to what the actual data shows us. This could be a result of the lack of seasonality in the data, the abruptness of the massive trends in the data, etc. Seeing how other forecasting models handle this diff"
   ]
  }
 ],
 "metadata": {
  "kernelspec": {
   "display_name": "Python 3",
   "language": "python",
   "name": "python3"
  },
  "language_info": {
   "codemirror_mode": {
    "name": "ipython",
    "version": 3
   },
   "file_extension": ".py",
   "mimetype": "text/x-python",
   "name": "python",
   "nbconvert_exporter": "python",
   "pygments_lexer": "ipython3",
   "version": "3.8.8"
  }
 },
 "nbformat": 4,
 "nbformat_minor": 5
}
