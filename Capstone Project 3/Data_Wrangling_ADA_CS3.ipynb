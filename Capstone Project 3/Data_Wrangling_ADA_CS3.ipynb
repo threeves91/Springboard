{
 "cells": [
  {
   "cell_type": "markdown",
   "id": "structured-completion",
   "metadata": {},
   "source": [
    "# Data Wrangling: Cardano, Ethereum, Bitcoin \n",
    "### *This notebook will be used to primarily address dataset cleaning for the Cardano cryptocurrency, in preparation for utilization of the data in a time series forecasting model. The csv files for Ethereum and Bitcoin may be used to compare growth, market trends, etc. in the Exploratory Data Analysis phase. "
   ]
  },
  {
   "cell_type": "code",
   "execution_count": 65,
   "id": "young-supervisor",
   "metadata": {},
   "outputs": [],
   "source": [
    "import pandas as pd #pd.read_csv, data processing \n",
    "import numpy as np #linear algebra \n",
    "import matplotlib.pyplot as plt #plotting/graphical analysis\n",
    "import seaborn as sns #plotting/graphical analysis "
   ]
  },
  {
   "cell_type": "code",
   "execution_count": 66,
   "id": "biological-integral",
   "metadata": {},
   "outputs": [],
   "source": [
    "#create dataframes via available csv files\n",
    "ADA_df = pd.read_csv('../Capstone_Project_3/Data/coin_Cardano.csv')\n",
    "ETH_df = pd.read_csv('../Capstone_Project_3/Data/coin_Ethereum.csv')\n",
    "BTC_df = pd.read_csv('../Capstone_Project_3/Data/coin_Bitcoin.csv')"
   ]
  },
  {
   "cell_type": "markdown",
   "id": "confirmed-layer",
   "metadata": {},
   "source": [
    "### Column Data:\n",
    "#### SNo : Serial Number \n",
    "#### Date : date of observation\n",
    "#### Open : Opening price on the given day\n",
    "#### High : Highest price on the given day\n",
    "#### Low : Lowest price on the given day\n",
    "#### Close : Closing price on the given day\n",
    "#### Volume : Volume of transactions on the given day\n",
    "#### Market Cap : Market capitalization in USD\n"
   ]
  },
  {
   "cell_type": "code",
   "execution_count": 67,
   "id": "freelance-avenue",
   "metadata": {},
   "outputs": [
    {
     "data": {
      "text/html": [
       "<div>\n",
       "<style scoped>\n",
       "    .dataframe tbody tr th:only-of-type {\n",
       "        vertical-align: middle;\n",
       "    }\n",
       "\n",
       "    .dataframe tbody tr th {\n",
       "        vertical-align: top;\n",
       "    }\n",
       "\n",
       "    .dataframe thead th {\n",
       "        text-align: right;\n",
       "    }\n",
       "</style>\n",
       "<table border=\"1\" class=\"dataframe\">\n",
       "  <thead>\n",
       "    <tr style=\"text-align: right;\">\n",
       "      <th></th>\n",
       "      <th>SNo</th>\n",
       "      <th>Name</th>\n",
       "      <th>Symbol</th>\n",
       "      <th>Date</th>\n",
       "      <th>High</th>\n",
       "      <th>Low</th>\n",
       "      <th>Open</th>\n",
       "      <th>Close</th>\n",
       "      <th>Volume</th>\n",
       "      <th>Marketcap</th>\n",
       "    </tr>\n",
       "  </thead>\n",
       "  <tbody>\n",
       "    <tr>\n",
       "      <th>0</th>\n",
       "      <td>1</td>\n",
       "      <td>Cardano</td>\n",
       "      <td>ADA</td>\n",
       "      <td>2017-10-02 23:59:59</td>\n",
       "      <td>0.030088</td>\n",
       "      <td>0.019969</td>\n",
       "      <td>0.024607</td>\n",
       "      <td>0.025932</td>\n",
       "      <td>57641300.0</td>\n",
       "      <td>6.288991e+08</td>\n",
       "    </tr>\n",
       "    <tr>\n",
       "      <th>1</th>\n",
       "      <td>2</td>\n",
       "      <td>Cardano</td>\n",
       "      <td>ADA</td>\n",
       "      <td>2017-10-03 23:59:59</td>\n",
       "      <td>0.027425</td>\n",
       "      <td>0.020690</td>\n",
       "      <td>0.025757</td>\n",
       "      <td>0.020816</td>\n",
       "      <td>16997800.0</td>\n",
       "      <td>5.396927e+08</td>\n",
       "    </tr>\n",
       "    <tr>\n",
       "      <th>2</th>\n",
       "      <td>3</td>\n",
       "      <td>Cardano</td>\n",
       "      <td>ADA</td>\n",
       "      <td>2017-10-04 23:59:59</td>\n",
       "      <td>0.022806</td>\n",
       "      <td>0.020864</td>\n",
       "      <td>0.020864</td>\n",
       "      <td>0.021931</td>\n",
       "      <td>9000050.0</td>\n",
       "      <td>5.686195e+08</td>\n",
       "    </tr>\n",
       "    <tr>\n",
       "      <th>3</th>\n",
       "      <td>4</td>\n",
       "      <td>Cardano</td>\n",
       "      <td>ADA</td>\n",
       "      <td>2017-10-05 23:59:59</td>\n",
       "      <td>0.022154</td>\n",
       "      <td>0.020859</td>\n",
       "      <td>0.021951</td>\n",
       "      <td>0.021489</td>\n",
       "      <td>5562510.0</td>\n",
       "      <td>5.571390e+08</td>\n",
       "    </tr>\n",
       "    <tr>\n",
       "      <th>4</th>\n",
       "      <td>5</td>\n",
       "      <td>Cardano</td>\n",
       "      <td>ADA</td>\n",
       "      <td>2017-10-06 23:59:59</td>\n",
       "      <td>0.021542</td>\n",
       "      <td>0.018360</td>\n",
       "      <td>0.021359</td>\n",
       "      <td>0.018539</td>\n",
       "      <td>7780710.0</td>\n",
       "      <td>4.806646e+08</td>\n",
       "    </tr>\n",
       "    <tr>\n",
       "      <th>5</th>\n",
       "      <td>6</td>\n",
       "      <td>Cardano</td>\n",
       "      <td>ADA</td>\n",
       "      <td>2017-10-07 23:59:59</td>\n",
       "      <td>0.021050</td>\n",
       "      <td>0.017620</td>\n",
       "      <td>0.018414</td>\n",
       "      <td>0.020941</td>\n",
       "      <td>7411240.0</td>\n",
       "      <td>5.429362e+08</td>\n",
       "    </tr>\n",
       "    <tr>\n",
       "      <th>6</th>\n",
       "      <td>7</td>\n",
       "      <td>Cardano</td>\n",
       "      <td>ADA</td>\n",
       "      <td>2017-10-08 23:59:59</td>\n",
       "      <td>0.023598</td>\n",
       "      <td>0.020147</td>\n",
       "      <td>0.020929</td>\n",
       "      <td>0.020477</td>\n",
       "      <td>7727460.0</td>\n",
       "      <td>5.309138e+08</td>\n",
       "    </tr>\n",
       "    <tr>\n",
       "      <th>7</th>\n",
       "      <td>8</td>\n",
       "      <td>Cardano</td>\n",
       "      <td>ADA</td>\n",
       "      <td>2017-10-09 23:59:59</td>\n",
       "      <td>0.022807</td>\n",
       "      <td>0.020342</td>\n",
       "      <td>0.020344</td>\n",
       "      <td>0.022114</td>\n",
       "      <td>4663310.0</td>\n",
       "      <td>5.733435e+08</td>\n",
       "    </tr>\n",
       "    <tr>\n",
       "      <th>8</th>\n",
       "      <td>9</td>\n",
       "      <td>Cardano</td>\n",
       "      <td>ADA</td>\n",
       "      <td>2017-10-10 23:59:59</td>\n",
       "      <td>0.022446</td>\n",
       "      <td>0.021279</td>\n",
       "      <td>0.022112</td>\n",
       "      <td>0.021531</td>\n",
       "      <td>2725600.0</td>\n",
       "      <td>5.582435e+08</td>\n",
       "    </tr>\n",
       "    <tr>\n",
       "      <th>9</th>\n",
       "      <td>10</td>\n",
       "      <td>Cardano</td>\n",
       "      <td>ADA</td>\n",
       "      <td>2017-10-11 23:59:59</td>\n",
       "      <td>0.022576</td>\n",
       "      <td>0.020976</td>\n",
       "      <td>0.021480</td>\n",
       "      <td>0.022520</td>\n",
       "      <td>3606720.0</td>\n",
       "      <td>5.838647e+08</td>\n",
       "    </tr>\n",
       "  </tbody>\n",
       "</table>\n",
       "</div>"
      ],
      "text/plain": [
       "   SNo     Name Symbol                 Date      High       Low      Open  \\\n",
       "0    1  Cardano    ADA  2017-10-02 23:59:59  0.030088  0.019969  0.024607   \n",
       "1    2  Cardano    ADA  2017-10-03 23:59:59  0.027425  0.020690  0.025757   \n",
       "2    3  Cardano    ADA  2017-10-04 23:59:59  0.022806  0.020864  0.020864   \n",
       "3    4  Cardano    ADA  2017-10-05 23:59:59  0.022154  0.020859  0.021951   \n",
       "4    5  Cardano    ADA  2017-10-06 23:59:59  0.021542  0.018360  0.021359   \n",
       "5    6  Cardano    ADA  2017-10-07 23:59:59  0.021050  0.017620  0.018414   \n",
       "6    7  Cardano    ADA  2017-10-08 23:59:59  0.023598  0.020147  0.020929   \n",
       "7    8  Cardano    ADA  2017-10-09 23:59:59  0.022807  0.020342  0.020344   \n",
       "8    9  Cardano    ADA  2017-10-10 23:59:59  0.022446  0.021279  0.022112   \n",
       "9   10  Cardano    ADA  2017-10-11 23:59:59  0.022576  0.020976  0.021480   \n",
       "\n",
       "      Close      Volume     Marketcap  \n",
       "0  0.025932  57641300.0  6.288991e+08  \n",
       "1  0.020816  16997800.0  5.396927e+08  \n",
       "2  0.021931   9000050.0  5.686195e+08  \n",
       "3  0.021489   5562510.0  5.571390e+08  \n",
       "4  0.018539   7780710.0  4.806646e+08  \n",
       "5  0.020941   7411240.0  5.429362e+08  \n",
       "6  0.020477   7727460.0  5.309138e+08  \n",
       "7  0.022114   4663310.0  5.733435e+08  \n",
       "8  0.021531   2725600.0  5.582435e+08  \n",
       "9  0.022520   3606720.0  5.838647e+08  "
      ]
     },
     "execution_count": 67,
     "metadata": {},
     "output_type": "execute_result"
    }
   ],
   "source": [
    "ADA_df.head(10)#cursory look at dataframe"
   ]
  },
  {
   "cell_type": "code",
   "execution_count": 68,
   "id": "aggressive-native",
   "metadata": {},
   "outputs": [
    {
     "name": "stdout",
     "output_type": "stream",
     "text": [
      "<class 'pandas.core.frame.DataFrame'>\n",
      "RangeIndex: 1245 entries, 0 to 1244\n",
      "Data columns (total 10 columns):\n",
      " #   Column     Non-Null Count  Dtype  \n",
      "---  ------     --------------  -----  \n",
      " 0   SNo        1245 non-null   int64  \n",
      " 1   Name       1245 non-null   object \n",
      " 2   Symbol     1245 non-null   object \n",
      " 3   Date       1245 non-null   object \n",
      " 4   High       1245 non-null   float64\n",
      " 5   Low        1245 non-null   float64\n",
      " 6   Open       1245 non-null   float64\n",
      " 7   Close      1245 non-null   float64\n",
      " 8   Volume     1245 non-null   float64\n",
      " 9   Marketcap  1245 non-null   float64\n",
      "dtypes: float64(6), int64(1), object(3)\n",
      "memory usage: 97.4+ KB\n"
     ]
    }
   ],
   "source": [
    "ADA_df.info()#data types, null values"
   ]
  },
  {
   "cell_type": "markdown",
   "id": "quantitative-irish",
   "metadata": {},
   "source": [
    "#### There are no null values in this dataset. There are a 10 columns, of which a couple will need some attention:\n",
    "#### - Serial Number does not seem to provide any value to the data set other than numbering each day, so it can probably be removed. \n",
    "#### - Name and Symbol are repetitive, and have no bearing on the model outcome, and thus can be removed. I will keep the Symbol column through the EDA notebook, as it will be helpful in distinguishing between the three coins as we compare market trends before the baseline modeling for Cardano. \n",
    "#### - Date does not need hours, min and sec as it is the same value for every day and can be converted into a datetime object\n",
    "#### - High, Low, Open and Close could be rounded but I will probably leave them as is and ensure that further calculations involving these columns are rounded to the six decimal places these columns have. \n",
    "#### - Marketcap's scientific notation could become cumbersome, which may lead to it needing to be notated differently. "
   ]
  },
  {
   "cell_type": "code",
   "execution_count": 69,
   "id": "super-fundamentals",
   "metadata": {},
   "outputs": [
    {
     "data": {
      "text/plain": [
       "Index(['Symbol', 'Date', 'High', 'Low', 'Open', 'Close', 'Volume',\n",
       "       'Marketcap'],\n",
       "      dtype='object')"
      ]
     },
     "execution_count": 69,
     "metadata": {},
     "output_type": "execute_result"
    }
   ],
   "source": [
    "#remove Serial Number and Name columns\n",
    "ADA_df = ADA_df.drop(['SNo', 'Name'], axis=1)\n",
    "ADA_df.columns"
   ]
  },
  {
   "cell_type": "code",
   "execution_count": 71,
   "id": "addressed-toolbox",
   "metadata": {},
   "outputs": [
    {
     "data": {
      "text/plain": [
       "0   2017-10-02\n",
       "1   2017-10-03\n",
       "2   2017-10-04\n",
       "3   2017-10-05\n",
       "4   2017-10-06\n",
       "Name: Date, dtype: datetime64[ns]"
      ]
     },
     "execution_count": 71,
     "metadata": {},
     "output_type": "execute_result"
    }
   ],
   "source": [
    "#Exclude the hour, min, and sec in Date column and convert to datetime64\n",
    "ADA_df['Date'] = ADA_df['Date'].astype('datetime64')\n",
    "ADA_df['Date'] = ADA_df['Date'].dt.strftime('%Y-%m-%d')\n",
    "ADA_df['Date'] = ADA_df['Date'].astype('datetime64')\n",
    "ADA_df['Date'].head()"
   ]
  },
  {
   "cell_type": "code",
   "execution_count": 57,
   "id": "spatial-velvet",
   "metadata": {},
   "outputs": [
    {
     "data": {
      "text/html": [
       "<div>\n",
       "<style scoped>\n",
       "    .dataframe tbody tr th:only-of-type {\n",
       "        vertical-align: middle;\n",
       "    }\n",
       "\n",
       "    .dataframe tbody tr th {\n",
       "        vertical-align: top;\n",
       "    }\n",
       "\n",
       "    .dataframe thead th {\n",
       "        text-align: right;\n",
       "    }\n",
       "</style>\n",
       "<table border=\"1\" class=\"dataframe\">\n",
       "  <thead>\n",
       "    <tr style=\"text-align: right;\">\n",
       "      <th></th>\n",
       "      <th>Symbol</th>\n",
       "      <th>Date</th>\n",
       "      <th>High</th>\n",
       "      <th>Low</th>\n",
       "      <th>Open</th>\n",
       "      <th>Close</th>\n",
       "      <th>Volume</th>\n",
       "      <th>Marketcap</th>\n",
       "    </tr>\n",
       "  </thead>\n",
       "  <tbody>\n",
       "    <tr>\n",
       "      <th>0</th>\n",
       "      <td>ADA</td>\n",
       "      <td>2017-10-02</td>\n",
       "      <td>0.030088</td>\n",
       "      <td>0.019969</td>\n",
       "      <td>0.024607</td>\n",
       "      <td>0.025932</td>\n",
       "      <td>57641300.0</td>\n",
       "      <td>6.288991e+08</td>\n",
       "    </tr>\n",
       "    <tr>\n",
       "      <th>1</th>\n",
       "      <td>ADA</td>\n",
       "      <td>2017-10-03</td>\n",
       "      <td>0.027425</td>\n",
       "      <td>0.020690</td>\n",
       "      <td>0.025757</td>\n",
       "      <td>0.020816</td>\n",
       "      <td>16997800.0</td>\n",
       "      <td>5.396927e+08</td>\n",
       "    </tr>\n",
       "    <tr>\n",
       "      <th>2</th>\n",
       "      <td>ADA</td>\n",
       "      <td>2017-10-04</td>\n",
       "      <td>0.022806</td>\n",
       "      <td>0.020864</td>\n",
       "      <td>0.020864</td>\n",
       "      <td>0.021931</td>\n",
       "      <td>9000050.0</td>\n",
       "      <td>5.686195e+08</td>\n",
       "    </tr>\n",
       "    <tr>\n",
       "      <th>3</th>\n",
       "      <td>ADA</td>\n",
       "      <td>2017-10-05</td>\n",
       "      <td>0.022154</td>\n",
       "      <td>0.020859</td>\n",
       "      <td>0.021951</td>\n",
       "      <td>0.021489</td>\n",
       "      <td>5562510.0</td>\n",
       "      <td>5.571390e+08</td>\n",
       "    </tr>\n",
       "    <tr>\n",
       "      <th>4</th>\n",
       "      <td>ADA</td>\n",
       "      <td>2017-10-06</td>\n",
       "      <td>0.021542</td>\n",
       "      <td>0.018360</td>\n",
       "      <td>0.021359</td>\n",
       "      <td>0.018539</td>\n",
       "      <td>7780710.0</td>\n",
       "      <td>4.806646e+08</td>\n",
       "    </tr>\n",
       "  </tbody>\n",
       "</table>\n",
       "</div>"
      ],
      "text/plain": [
       "  Symbol       Date      High       Low      Open     Close      Volume  \\\n",
       "0    ADA 2017-10-02  0.030088  0.019969  0.024607  0.025932  57641300.0   \n",
       "1    ADA 2017-10-03  0.027425  0.020690  0.025757  0.020816  16997800.0   \n",
       "2    ADA 2017-10-04  0.022806  0.020864  0.020864  0.021931   9000050.0   \n",
       "3    ADA 2017-10-05  0.022154  0.020859  0.021951  0.021489   5562510.0   \n",
       "4    ADA 2017-10-06  0.021542  0.018360  0.021359  0.018539   7780710.0   \n",
       "\n",
       "      Marketcap  \n",
       "0  6.288991e+08  \n",
       "1  5.396927e+08  \n",
       "2  5.686195e+08  \n",
       "3  5.571390e+08  \n",
       "4  4.806646e+08  "
      ]
     },
     "execution_count": 57,
     "metadata": {},
     "output_type": "execute_result"
    }
   ],
   "source": [
    "#dataframe is cleaned as desired and ready for EDA\n",
    "ADA_df.head()"
   ]
  },
  {
   "cell_type": "code",
   "execution_count": 58,
   "id": "characteristic-subject",
   "metadata": {},
   "outputs": [
    {
     "name": "stdout",
     "output_type": "stream",
     "text": [
      "<class 'pandas.core.frame.DataFrame'>\n",
      "RangeIndex: 2862 entries, 0 to 2861\n",
      "Data columns (total 10 columns):\n",
      " #   Column     Non-Null Count  Dtype  \n",
      "---  ------     --------------  -----  \n",
      " 0   SNo        2862 non-null   int64  \n",
      " 1   Name       2862 non-null   object \n",
      " 2   Symbol     2862 non-null   object \n",
      " 3   Date       2862 non-null   object \n",
      " 4   High       2862 non-null   float64\n",
      " 5   Low        2862 non-null   float64\n",
      " 6   Open       2862 non-null   float64\n",
      " 7   Close      2862 non-null   float64\n",
      " 8   Volume     2862 non-null   float64\n",
      " 9   Marketcap  2862 non-null   float64\n",
      "dtypes: float64(6), int64(1), object(3)\n",
      "memory usage: 223.7+ KB\n"
     ]
    }
   ],
   "source": [
    "#Repeat on BTC and ETH csv files. \n",
    "BTC_df.info()#data types, null values"
   ]
  },
  {
   "cell_type": "code",
   "execution_count": 60,
   "id": "manual-insert",
   "metadata": {},
   "outputs": [
    {
     "data": {
      "text/plain": [
       "Index(['Symbol', 'Date', 'High', 'Low', 'Open', 'Close', 'Volume',\n",
       "       'Marketcap'],\n",
       "      dtype='object')"
      ]
     },
     "execution_count": 60,
     "metadata": {},
     "output_type": "execute_result"
    }
   ],
   "source": [
    "BTC_df = BTC_df.drop(['SNo', 'Name'], axis=1)\n",
    "BTC_df.columns"
   ]
  },
  {
   "cell_type": "code",
   "execution_count": 73,
   "id": "legendary-planning",
   "metadata": {},
   "outputs": [
    {
     "data": {
      "text/plain": [
       "0   2013-04-29\n",
       "1   2013-04-30\n",
       "2   2013-05-01\n",
       "3   2013-05-02\n",
       "4   2013-05-03\n",
       "Name: Date, dtype: datetime64[ns]"
      ]
     },
     "execution_count": 73,
     "metadata": {},
     "output_type": "execute_result"
    }
   ],
   "source": [
    "BTC_df['Date'] = BTC_df['Date'].astype('datetime64')\n",
    "BTC_df['Date'] = BTC_df['Date'].dt.strftime('%Y-%m-%d')\n",
    "BTC_df['Date'] = BTC_df['Date'].astype('datetime64')\n",
    "BTC_df['Date'].head()"
   ]
  },
  {
   "cell_type": "code",
   "execution_count": 74,
   "id": "legendary-string",
   "metadata": {},
   "outputs": [
    {
     "name": "stdout",
     "output_type": "stream",
     "text": [
      "<class 'pandas.core.frame.DataFrame'>\n",
      "RangeIndex: 2031 entries, 0 to 2030\n",
      "Data columns (total 10 columns):\n",
      " #   Column     Non-Null Count  Dtype  \n",
      "---  ------     --------------  -----  \n",
      " 0   SNo        2031 non-null   int64  \n",
      " 1   Name       2031 non-null   object \n",
      " 2   Symbol     2031 non-null   object \n",
      " 3   Date       2031 non-null   object \n",
      " 4   High       2031 non-null   float64\n",
      " 5   Low        2031 non-null   float64\n",
      " 6   Open       2031 non-null   float64\n",
      " 7   Close      2031 non-null   float64\n",
      " 8   Volume     2031 non-null   float64\n",
      " 9   Marketcap  2031 non-null   float64\n",
      "dtypes: float64(6), int64(1), object(3)\n",
      "memory usage: 158.8+ KB\n"
     ]
    }
   ],
   "source": [
    "ETH_df.info()#data types, null values"
   ]
  },
  {
   "cell_type": "code",
   "execution_count": 75,
   "id": "quarterly-insertion",
   "metadata": {},
   "outputs": [
    {
     "data": {
      "text/plain": [
       "Index(['Symbol', 'Date', 'High', 'Low', 'Open', 'Close', 'Volume',\n",
       "       'Marketcap'],\n",
       "      dtype='object')"
      ]
     },
     "execution_count": 75,
     "metadata": {},
     "output_type": "execute_result"
    }
   ],
   "source": [
    "ETH_df = ETH_df.drop(['SNo', 'Name'], axis=1)\n",
    "ETH_df.columns"
   ]
  },
  {
   "cell_type": "code",
   "execution_count": 76,
   "id": "governmental-genre",
   "metadata": {},
   "outputs": [
    {
     "data": {
      "text/plain": [
       "0   2015-08-08\n",
       "1   2015-08-09\n",
       "2   2015-08-10\n",
       "3   2015-08-11\n",
       "4   2015-08-12\n",
       "Name: Date, dtype: datetime64[ns]"
      ]
     },
     "execution_count": 76,
     "metadata": {},
     "output_type": "execute_result"
    }
   ],
   "source": [
    "ETH_df['Date'] = ETH_df['Date'].astype('datetime64')\n",
    "ETH_df['Date'] = ETH_df['Date'].dt.strftime('%Y-%m-%d')\n",
    "ETH_df['Date'] = ETH_df['Date'].astype('datetime64')\n",
    "ETH_df['Date'].head()"
   ]
  },
  {
   "cell_type": "code",
   "execution_count": 79,
   "id": "italian-terrorist",
   "metadata": {},
   "outputs": [],
   "source": [
    "#save cleaned dataframes for EDA notebook \n",
    "ADA_df.to_csv('ADA_df.csv')\n",
    "BTC_df.to_csv('BTC_df.csv')\n",
    "ETH_df.to_csv('ETH_df.csv')"
   ]
  },
  {
   "cell_type": "markdown",
   "id": "indoor-toyota",
   "metadata": {},
   "source": [
    "### The Data Wrangling portion of this capstone project is complete with each csv file prepared for Exploratory Data Analysis. "
   ]
  }
 ],
 "metadata": {
  "kernelspec": {
   "display_name": "Python 3",
   "language": "python",
   "name": "python3"
  },
  "language_info": {
   "codemirror_mode": {
    "name": "ipython",
    "version": 3
   },
   "file_extension": ".py",
   "mimetype": "text/x-python",
   "name": "python",
   "nbconvert_exporter": "python",
   "pygments_lexer": "ipython3",
   "version": "3.8.8"
  }
 },
 "nbformat": 4,
 "nbformat_minor": 5
}
